{
 "cells": [
  {
   "cell_type": "markdown",
   "id": "6dc03f61-ae54-456f-9bd8-ee755828993d",
   "metadata": {},
   "source": [
    "# Project: Movies Recommender System"
   ]
  },
  {
   "cell_type": "code",
   "execution_count": 1,
   "id": "92029bfd-9451-47d5-9d42-5ef3327f7586",
   "metadata": {},
   "outputs": [],
   "source": [
    "import pandas as pd\n",
    "import numpy as np"
   ]
  },
  {
   "cell_type": "code",
   "execution_count": 2,
   "id": "4618fcdf-f1e4-4dfd-9b33-ee4371973ae8",
   "metadata": {},
   "outputs": [],
   "source": [
    "## Load or Read Data Set "
   ]
  },
  {
   "cell_type": "code",
   "execution_count": 3,
   "id": "25694fff-07a5-448c-8e04-ec7c4adf87ac",
   "metadata": {},
   "outputs": [],
   "source": [
    "movies = pd.read_csv(\"tmdb_5000_movies.csv\")\n",
    "credits = pd.read_csv(\"tmdb_5000_credits.csv\")"
   ]
  },
  {
   "cell_type": "markdown",
   "id": "60b9cf94-d85f-4769-83ef-3c3be502df32",
   "metadata": {},
   "source": [
    "## Data Preprocessing"
   ]
  },
  {
   "cell_type": "code",
   "execution_count": 4,
   "id": "155eef5e-ad4e-4714-8a85-3066748e00cf",
   "metadata": {},
   "outputs": [
    {
     "data": {
      "text/html": [
       "<div>\n",
       "<style scoped>\n",
       "    .dataframe tbody tr th:only-of-type {\n",
       "        vertical-align: middle;\n",
       "    }\n",
       "\n",
       "    .dataframe tbody tr th {\n",
       "        vertical-align: top;\n",
       "    }\n",
       "\n",
       "    .dataframe thead th {\n",
       "        text-align: right;\n",
       "    }\n",
       "</style>\n",
       "<table border=\"1\" class=\"dataframe\">\n",
       "  <thead>\n",
       "    <tr style=\"text-align: right;\">\n",
       "      <th></th>\n",
       "      <th>budget</th>\n",
       "      <th>genres</th>\n",
       "      <th>homepage</th>\n",
       "      <th>id</th>\n",
       "      <th>keywords</th>\n",
       "      <th>original_language</th>\n",
       "      <th>original_title</th>\n",
       "      <th>overview</th>\n",
       "      <th>popularity</th>\n",
       "      <th>production_companies</th>\n",
       "      <th>production_countries</th>\n",
       "      <th>release_date</th>\n",
       "      <th>revenue</th>\n",
       "      <th>runtime</th>\n",
       "      <th>spoken_languages</th>\n",
       "      <th>status</th>\n",
       "      <th>tagline</th>\n",
       "      <th>title</th>\n",
       "      <th>vote_average</th>\n",
       "      <th>vote_count</th>\n",
       "    </tr>\n",
       "  </thead>\n",
       "  <tbody>\n",
       "    <tr>\n",
       "      <th>0</th>\n",
       "      <td>237000000</td>\n",
       "      <td>[{\"id\": 28, \"name\": \"Action\"}, {\"id\": 12, \"nam...</td>\n",
       "      <td>http://www.avatarmovie.com/</td>\n",
       "      <td>19995</td>\n",
       "      <td>[{\"id\": 1463, \"name\": \"culture clash\"}, {\"id\":...</td>\n",
       "      <td>en</td>\n",
       "      <td>Avatar</td>\n",
       "      <td>In the 22nd century, a paraplegic Marine is di...</td>\n",
       "      <td>150.437577</td>\n",
       "      <td>[{\"name\": \"Ingenious Film Partners\", \"id\": 289...</td>\n",
       "      <td>[{\"iso_3166_1\": \"US\", \"name\": \"United States o...</td>\n",
       "      <td>2009-12-10</td>\n",
       "      <td>2787965087</td>\n",
       "      <td>162.0</td>\n",
       "      <td>[{\"iso_639_1\": \"en\", \"name\": \"English\"}, {\"iso...</td>\n",
       "      <td>Released</td>\n",
       "      <td>Enter the World of Pandora.</td>\n",
       "      <td>Avatar</td>\n",
       "      <td>7.2</td>\n",
       "      <td>11800</td>\n",
       "    </tr>\n",
       "    <tr>\n",
       "      <th>1</th>\n",
       "      <td>300000000</td>\n",
       "      <td>[{\"id\": 12, \"name\": \"Adventure\"}, {\"id\": 14, \"...</td>\n",
       "      <td>http://disney.go.com/disneypictures/pirates/</td>\n",
       "      <td>285</td>\n",
       "      <td>[{\"id\": 270, \"name\": \"ocean\"}, {\"id\": 726, \"na...</td>\n",
       "      <td>en</td>\n",
       "      <td>Pirates of the Caribbean: At World's End</td>\n",
       "      <td>Captain Barbossa, long believed to be dead, ha...</td>\n",
       "      <td>139.082615</td>\n",
       "      <td>[{\"name\": \"Walt Disney Pictures\", \"id\": 2}, {\"...</td>\n",
       "      <td>[{\"iso_3166_1\": \"US\", \"name\": \"United States o...</td>\n",
       "      <td>2007-05-19</td>\n",
       "      <td>961000000</td>\n",
       "      <td>169.0</td>\n",
       "      <td>[{\"iso_639_1\": \"en\", \"name\": \"English\"}]</td>\n",
       "      <td>Released</td>\n",
       "      <td>At the end of the world, the adventure begins.</td>\n",
       "      <td>Pirates of the Caribbean: At World's End</td>\n",
       "      <td>6.9</td>\n",
       "      <td>4500</td>\n",
       "    </tr>\n",
       "    <tr>\n",
       "      <th>2</th>\n",
       "      <td>245000000</td>\n",
       "      <td>[{\"id\": 28, \"name\": \"Action\"}, {\"id\": 12, \"nam...</td>\n",
       "      <td>http://www.sonypictures.com/movies/spectre/</td>\n",
       "      <td>206647</td>\n",
       "      <td>[{\"id\": 470, \"name\": \"spy\"}, {\"id\": 818, \"name...</td>\n",
       "      <td>en</td>\n",
       "      <td>Spectre</td>\n",
       "      <td>A cryptic message from Bond’s past sends him o...</td>\n",
       "      <td>107.376788</td>\n",
       "      <td>[{\"name\": \"Columbia Pictures\", \"id\": 5}, {\"nam...</td>\n",
       "      <td>[{\"iso_3166_1\": \"GB\", \"name\": \"United Kingdom\"...</td>\n",
       "      <td>2015-10-26</td>\n",
       "      <td>880674609</td>\n",
       "      <td>148.0</td>\n",
       "      <td>[{\"iso_639_1\": \"fr\", \"name\": \"Fran\\u00e7ais\"},...</td>\n",
       "      <td>Released</td>\n",
       "      <td>A Plan No One Escapes</td>\n",
       "      <td>Spectre</td>\n",
       "      <td>6.3</td>\n",
       "      <td>4466</td>\n",
       "    </tr>\n",
       "  </tbody>\n",
       "</table>\n",
       "</div>"
      ],
      "text/plain": [
       "      budget                                             genres  \\\n",
       "0  237000000  [{\"id\": 28, \"name\": \"Action\"}, {\"id\": 12, \"nam...   \n",
       "1  300000000  [{\"id\": 12, \"name\": \"Adventure\"}, {\"id\": 14, \"...   \n",
       "2  245000000  [{\"id\": 28, \"name\": \"Action\"}, {\"id\": 12, \"nam...   \n",
       "\n",
       "                                       homepage      id  \\\n",
       "0                   http://www.avatarmovie.com/   19995   \n",
       "1  http://disney.go.com/disneypictures/pirates/     285   \n",
       "2   http://www.sonypictures.com/movies/spectre/  206647   \n",
       "\n",
       "                                            keywords original_language  \\\n",
       "0  [{\"id\": 1463, \"name\": \"culture clash\"}, {\"id\":...                en   \n",
       "1  [{\"id\": 270, \"name\": \"ocean\"}, {\"id\": 726, \"na...                en   \n",
       "2  [{\"id\": 470, \"name\": \"spy\"}, {\"id\": 818, \"name...                en   \n",
       "\n",
       "                             original_title  \\\n",
       "0                                    Avatar   \n",
       "1  Pirates of the Caribbean: At World's End   \n",
       "2                                   Spectre   \n",
       "\n",
       "                                            overview  popularity  \\\n",
       "0  In the 22nd century, a paraplegic Marine is di...  150.437577   \n",
       "1  Captain Barbossa, long believed to be dead, ha...  139.082615   \n",
       "2  A cryptic message from Bond’s past sends him o...  107.376788   \n",
       "\n",
       "                                production_companies  \\\n",
       "0  [{\"name\": \"Ingenious Film Partners\", \"id\": 289...   \n",
       "1  [{\"name\": \"Walt Disney Pictures\", \"id\": 2}, {\"...   \n",
       "2  [{\"name\": \"Columbia Pictures\", \"id\": 5}, {\"nam...   \n",
       "\n",
       "                                production_countries release_date     revenue  \\\n",
       "0  [{\"iso_3166_1\": \"US\", \"name\": \"United States o...   2009-12-10  2787965087   \n",
       "1  [{\"iso_3166_1\": \"US\", \"name\": \"United States o...   2007-05-19   961000000   \n",
       "2  [{\"iso_3166_1\": \"GB\", \"name\": \"United Kingdom\"...   2015-10-26   880674609   \n",
       "\n",
       "   runtime                                   spoken_languages    status  \\\n",
       "0    162.0  [{\"iso_639_1\": \"en\", \"name\": \"English\"}, {\"iso...  Released   \n",
       "1    169.0           [{\"iso_639_1\": \"en\", \"name\": \"English\"}]  Released   \n",
       "2    148.0  [{\"iso_639_1\": \"fr\", \"name\": \"Fran\\u00e7ais\"},...  Released   \n",
       "\n",
       "                                          tagline  \\\n",
       "0                     Enter the World of Pandora.   \n",
       "1  At the end of the world, the adventure begins.   \n",
       "2                           A Plan No One Escapes   \n",
       "\n",
       "                                      title  vote_average  vote_count  \n",
       "0                                    Avatar           7.2       11800  \n",
       "1  Pirates of the Caribbean: At World's End           6.9        4500  \n",
       "2                                   Spectre           6.3        4466  "
      ]
     },
     "execution_count": 4,
     "metadata": {},
     "output_type": "execute_result"
    }
   ],
   "source": [
    "movies.head(3)"
   ]
  },
  {
   "cell_type": "code",
   "execution_count": 5,
   "id": "860d5f9c-96c6-43b3-ac35-52741eb0d195",
   "metadata": {},
   "outputs": [
    {
     "data": {
      "text/html": [
       "<div>\n",
       "<style scoped>\n",
       "    .dataframe tbody tr th:only-of-type {\n",
       "        vertical-align: middle;\n",
       "    }\n",
       "\n",
       "    .dataframe tbody tr th {\n",
       "        vertical-align: top;\n",
       "    }\n",
       "\n",
       "    .dataframe thead th {\n",
       "        text-align: right;\n",
       "    }\n",
       "</style>\n",
       "<table border=\"1\" class=\"dataframe\">\n",
       "  <thead>\n",
       "    <tr style=\"text-align: right;\">\n",
       "      <th></th>\n",
       "      <th>movie_id</th>\n",
       "      <th>title</th>\n",
       "      <th>cast</th>\n",
       "      <th>crew</th>\n",
       "    </tr>\n",
       "  </thead>\n",
       "  <tbody>\n",
       "    <tr>\n",
       "      <th>0</th>\n",
       "      <td>19995</td>\n",
       "      <td>Avatar</td>\n",
       "      <td>[{\"cast_id\": 242, \"character\": \"Jake Sully\", \"...</td>\n",
       "      <td>[{\"credit_id\": \"52fe48009251416c750aca23\", \"de...</td>\n",
       "    </tr>\n",
       "    <tr>\n",
       "      <th>1</th>\n",
       "      <td>285</td>\n",
       "      <td>Pirates of the Caribbean: At World's End</td>\n",
       "      <td>[{\"cast_id\": 4, \"character\": \"Captain Jack Spa...</td>\n",
       "      <td>[{\"credit_id\": \"52fe4232c3a36847f800b579\", \"de...</td>\n",
       "    </tr>\n",
       "    <tr>\n",
       "      <th>2</th>\n",
       "      <td>206647</td>\n",
       "      <td>Spectre</td>\n",
       "      <td>[{\"cast_id\": 1, \"character\": \"James Bond\", \"cr...</td>\n",
       "      <td>[{\"credit_id\": \"54805967c3a36829b5002c41\", \"de...</td>\n",
       "    </tr>\n",
       "  </tbody>\n",
       "</table>\n",
       "</div>"
      ],
      "text/plain": [
       "   movie_id                                     title  \\\n",
       "0     19995                                    Avatar   \n",
       "1       285  Pirates of the Caribbean: At World's End   \n",
       "2    206647                                   Spectre   \n",
       "\n",
       "                                                cast  \\\n",
       "0  [{\"cast_id\": 242, \"character\": \"Jake Sully\", \"...   \n",
       "1  [{\"cast_id\": 4, \"character\": \"Captain Jack Spa...   \n",
       "2  [{\"cast_id\": 1, \"character\": \"James Bond\", \"cr...   \n",
       "\n",
       "                                                crew  \n",
       "0  [{\"credit_id\": \"52fe48009251416c750aca23\", \"de...  \n",
       "1  [{\"credit_id\": \"52fe4232c3a36847f800b579\", \"de...  \n",
       "2  [{\"credit_id\": \"54805967c3a36829b5002c41\", \"de...  "
      ]
     },
     "execution_count": 5,
     "metadata": {},
     "output_type": "execute_result"
    }
   ],
   "source": [
    "credits.head(3)"
   ]
  },
  {
   "cell_type": "code",
   "execution_count": 6,
   "id": "37b44e7c-7a86-4dee-985c-500858db3b89",
   "metadata": {},
   "outputs": [],
   "source": [
    "# Now merge both table for working\n",
    "movies = movies.merge(credits,on = 'title')"
   ]
  },
  {
   "cell_type": "code",
   "execution_count": 7,
   "id": "cfe7b36c-3a17-43ef-8c65-0c56516908d8",
   "metadata": {},
   "outputs": [
    {
     "data": {
      "text/html": [
       "<div>\n",
       "<style scoped>\n",
       "    .dataframe tbody tr th:only-of-type {\n",
       "        vertical-align: middle;\n",
       "    }\n",
       "\n",
       "    .dataframe tbody tr th {\n",
       "        vertical-align: top;\n",
       "    }\n",
       "\n",
       "    .dataframe thead th {\n",
       "        text-align: right;\n",
       "    }\n",
       "</style>\n",
       "<table border=\"1\" class=\"dataframe\">\n",
       "  <thead>\n",
       "    <tr style=\"text-align: right;\">\n",
       "      <th></th>\n",
       "      <th>budget</th>\n",
       "      <th>genres</th>\n",
       "      <th>homepage</th>\n",
       "      <th>id</th>\n",
       "      <th>keywords</th>\n",
       "      <th>original_language</th>\n",
       "      <th>original_title</th>\n",
       "      <th>overview</th>\n",
       "      <th>popularity</th>\n",
       "      <th>production_companies</th>\n",
       "      <th>...</th>\n",
       "      <th>runtime</th>\n",
       "      <th>spoken_languages</th>\n",
       "      <th>status</th>\n",
       "      <th>tagline</th>\n",
       "      <th>title</th>\n",
       "      <th>vote_average</th>\n",
       "      <th>vote_count</th>\n",
       "      <th>movie_id</th>\n",
       "      <th>cast</th>\n",
       "      <th>crew</th>\n",
       "    </tr>\n",
       "  </thead>\n",
       "  <tbody>\n",
       "    <tr>\n",
       "      <th>0</th>\n",
       "      <td>237000000</td>\n",
       "      <td>[{\"id\": 28, \"name\": \"Action\"}, {\"id\": 12, \"nam...</td>\n",
       "      <td>http://www.avatarmovie.com/</td>\n",
       "      <td>19995</td>\n",
       "      <td>[{\"id\": 1463, \"name\": \"culture clash\"}, {\"id\":...</td>\n",
       "      <td>en</td>\n",
       "      <td>Avatar</td>\n",
       "      <td>In the 22nd century, a paraplegic Marine is di...</td>\n",
       "      <td>150.437577</td>\n",
       "      <td>[{\"name\": \"Ingenious Film Partners\", \"id\": 289...</td>\n",
       "      <td>...</td>\n",
       "      <td>162.0</td>\n",
       "      <td>[{\"iso_639_1\": \"en\", \"name\": \"English\"}, {\"iso...</td>\n",
       "      <td>Released</td>\n",
       "      <td>Enter the World of Pandora.</td>\n",
       "      <td>Avatar</td>\n",
       "      <td>7.2</td>\n",
       "      <td>11800</td>\n",
       "      <td>19995</td>\n",
       "      <td>[{\"cast_id\": 242, \"character\": \"Jake Sully\", \"...</td>\n",
       "      <td>[{\"credit_id\": \"52fe48009251416c750aca23\", \"de...</td>\n",
       "    </tr>\n",
       "  </tbody>\n",
       "</table>\n",
       "<p>1 rows × 23 columns</p>\n",
       "</div>"
      ],
      "text/plain": [
       "      budget                                             genres  \\\n",
       "0  237000000  [{\"id\": 28, \"name\": \"Action\"}, {\"id\": 12, \"nam...   \n",
       "\n",
       "                      homepage     id  \\\n",
       "0  http://www.avatarmovie.com/  19995   \n",
       "\n",
       "                                            keywords original_language  \\\n",
       "0  [{\"id\": 1463, \"name\": \"culture clash\"}, {\"id\":...                en   \n",
       "\n",
       "  original_title                                           overview  \\\n",
       "0         Avatar  In the 22nd century, a paraplegic Marine is di...   \n",
       "\n",
       "   popularity                               production_companies  ... runtime  \\\n",
       "0  150.437577  [{\"name\": \"Ingenious Film Partners\", \"id\": 289...  ...   162.0   \n",
       "\n",
       "                                    spoken_languages    status  \\\n",
       "0  [{\"iso_639_1\": \"en\", \"name\": \"English\"}, {\"iso...  Released   \n",
       "\n",
       "                       tagline   title vote_average vote_count movie_id  \\\n",
       "0  Enter the World of Pandora.  Avatar          7.2      11800    19995   \n",
       "\n",
       "                                                cast  \\\n",
       "0  [{\"cast_id\": 242, \"character\": \"Jake Sully\", \"...   \n",
       "\n",
       "                                                crew  \n",
       "0  [{\"credit_id\": \"52fe48009251416c750aca23\", \"de...  \n",
       "\n",
       "[1 rows x 23 columns]"
      ]
     },
     "execution_count": 7,
     "metadata": {},
     "output_type": "execute_result"
    }
   ],
   "source": [
    "movies.head(1)\n"
   ]
  },
  {
   "cell_type": "markdown",
   "id": "1d56f1a2-4a4f-4b92-b29d-072c2c1b1835",
   "metadata": {},
   "source": [
    "### Keep only needy columns\n",
    "* genres - Type of movies like action, drama, comedy\n",
    "* id\n",
    "* keywords\n",
    "* title\n",
    "* overview\n",
    "* cast\n",
    "* crew\n"
   ]
  },
  {
   "cell_type": "code",
   "execution_count": 8,
   "id": "2d8a6535-1530-4fe7-a90c-e5dd904b878d",
   "metadata": {},
   "outputs": [],
   "source": [
    "# here new dataframe store in movies\n",
    "movies = movies[['movie_id','title','overview','keywords','genres','cast','crew']]"
   ]
  },
  {
   "cell_type": "code",
   "execution_count": 9,
   "id": "caa91721-e76b-41aa-983c-392d8fd5404f",
   "metadata": {},
   "outputs": [
    {
     "name": "stdout",
     "output_type": "stream",
     "text": [
      "<class 'pandas.core.frame.DataFrame'>\n",
      "RangeIndex: 4809 entries, 0 to 4808\n",
      "Data columns (total 7 columns):\n",
      " #   Column    Non-Null Count  Dtype \n",
      "---  ------    --------------  ----- \n",
      " 0   movie_id  4809 non-null   int64 \n",
      " 1   title     4809 non-null   object\n",
      " 2   overview  4806 non-null   object\n",
      " 3   keywords  4809 non-null   object\n",
      " 4   genres    4809 non-null   object\n",
      " 5   cast      4809 non-null   object\n",
      " 6   crew      4809 non-null   object\n",
      "dtypes: int64(1), object(6)\n",
      "memory usage: 263.1+ KB\n"
     ]
    }
   ],
   "source": [
    "movies.info()"
   ]
  },
  {
   "cell_type": "code",
   "execution_count": 10,
   "id": "c6f483dc-4aaa-47de-8935-d103e22ff482",
   "metadata": {},
   "outputs": [
    {
     "data": {
      "text/html": [
       "<div>\n",
       "<style scoped>\n",
       "    .dataframe tbody tr th:only-of-type {\n",
       "        vertical-align: middle;\n",
       "    }\n",
       "\n",
       "    .dataframe tbody tr th {\n",
       "        vertical-align: top;\n",
       "    }\n",
       "\n",
       "    .dataframe thead th {\n",
       "        text-align: right;\n",
       "    }\n",
       "</style>\n",
       "<table border=\"1\" class=\"dataframe\">\n",
       "  <thead>\n",
       "    <tr style=\"text-align: right;\">\n",
       "      <th></th>\n",
       "      <th>movie_id</th>\n",
       "      <th>title</th>\n",
       "      <th>overview</th>\n",
       "      <th>keywords</th>\n",
       "      <th>genres</th>\n",
       "      <th>cast</th>\n",
       "      <th>crew</th>\n",
       "    </tr>\n",
       "  </thead>\n",
       "  <tbody>\n",
       "    <tr>\n",
       "      <th>0</th>\n",
       "      <td>19995</td>\n",
       "      <td>Avatar</td>\n",
       "      <td>In the 22nd century, a paraplegic Marine is di...</td>\n",
       "      <td>[{\"id\": 1463, \"name\": \"culture clash\"}, {\"id\":...</td>\n",
       "      <td>[{\"id\": 28, \"name\": \"Action\"}, {\"id\": 12, \"nam...</td>\n",
       "      <td>[{\"cast_id\": 242, \"character\": \"Jake Sully\", \"...</td>\n",
       "      <td>[{\"credit_id\": \"52fe48009251416c750aca23\", \"de...</td>\n",
       "    </tr>\n",
       "    <tr>\n",
       "      <th>1</th>\n",
       "      <td>285</td>\n",
       "      <td>Pirates of the Caribbean: At World's End</td>\n",
       "      <td>Captain Barbossa, long believed to be dead, ha...</td>\n",
       "      <td>[{\"id\": 270, \"name\": \"ocean\"}, {\"id\": 726, \"na...</td>\n",
       "      <td>[{\"id\": 12, \"name\": \"Adventure\"}, {\"id\": 14, \"...</td>\n",
       "      <td>[{\"cast_id\": 4, \"character\": \"Captain Jack Spa...</td>\n",
       "      <td>[{\"credit_id\": \"52fe4232c3a36847f800b579\", \"de...</td>\n",
       "    </tr>\n",
       "    <tr>\n",
       "      <th>2</th>\n",
       "      <td>206647</td>\n",
       "      <td>Spectre</td>\n",
       "      <td>A cryptic message from Bond’s past sends him o...</td>\n",
       "      <td>[{\"id\": 470, \"name\": \"spy\"}, {\"id\": 818, \"name...</td>\n",
       "      <td>[{\"id\": 28, \"name\": \"Action\"}, {\"id\": 12, \"nam...</td>\n",
       "      <td>[{\"cast_id\": 1, \"character\": \"James Bond\", \"cr...</td>\n",
       "      <td>[{\"credit_id\": \"54805967c3a36829b5002c41\", \"de...</td>\n",
       "    </tr>\n",
       "    <tr>\n",
       "      <th>3</th>\n",
       "      <td>49026</td>\n",
       "      <td>The Dark Knight Rises</td>\n",
       "      <td>Following the death of District Attorney Harve...</td>\n",
       "      <td>[{\"id\": 849, \"name\": \"dc comics\"}, {\"id\": 853,...</td>\n",
       "      <td>[{\"id\": 28, \"name\": \"Action\"}, {\"id\": 80, \"nam...</td>\n",
       "      <td>[{\"cast_id\": 2, \"character\": \"Bruce Wayne / Ba...</td>\n",
       "      <td>[{\"credit_id\": \"52fe4781c3a36847f81398c3\", \"de...</td>\n",
       "    </tr>\n",
       "    <tr>\n",
       "      <th>4</th>\n",
       "      <td>49529</td>\n",
       "      <td>John Carter</td>\n",
       "      <td>John Carter is a war-weary, former military ca...</td>\n",
       "      <td>[{\"id\": 818, \"name\": \"based on novel\"}, {\"id\":...</td>\n",
       "      <td>[{\"id\": 28, \"name\": \"Action\"}, {\"id\": 12, \"nam...</td>\n",
       "      <td>[{\"cast_id\": 5, \"character\": \"John Carter\", \"c...</td>\n",
       "      <td>[{\"credit_id\": \"52fe479ac3a36847f813eaa3\", \"de...</td>\n",
       "    </tr>\n",
       "  </tbody>\n",
       "</table>\n",
       "</div>"
      ],
      "text/plain": [
       "   movie_id                                     title  \\\n",
       "0     19995                                    Avatar   \n",
       "1       285  Pirates of the Caribbean: At World's End   \n",
       "2    206647                                   Spectre   \n",
       "3     49026                     The Dark Knight Rises   \n",
       "4     49529                               John Carter   \n",
       "\n",
       "                                            overview  \\\n",
       "0  In the 22nd century, a paraplegic Marine is di...   \n",
       "1  Captain Barbossa, long believed to be dead, ha...   \n",
       "2  A cryptic message from Bond’s past sends him o...   \n",
       "3  Following the death of District Attorney Harve...   \n",
       "4  John Carter is a war-weary, former military ca...   \n",
       "\n",
       "                                            keywords  \\\n",
       "0  [{\"id\": 1463, \"name\": \"culture clash\"}, {\"id\":...   \n",
       "1  [{\"id\": 270, \"name\": \"ocean\"}, {\"id\": 726, \"na...   \n",
       "2  [{\"id\": 470, \"name\": \"spy\"}, {\"id\": 818, \"name...   \n",
       "3  [{\"id\": 849, \"name\": \"dc comics\"}, {\"id\": 853,...   \n",
       "4  [{\"id\": 818, \"name\": \"based on novel\"}, {\"id\":...   \n",
       "\n",
       "                                              genres  \\\n",
       "0  [{\"id\": 28, \"name\": \"Action\"}, {\"id\": 12, \"nam...   \n",
       "1  [{\"id\": 12, \"name\": \"Adventure\"}, {\"id\": 14, \"...   \n",
       "2  [{\"id\": 28, \"name\": \"Action\"}, {\"id\": 12, \"nam...   \n",
       "3  [{\"id\": 28, \"name\": \"Action\"}, {\"id\": 80, \"nam...   \n",
       "4  [{\"id\": 28, \"name\": \"Action\"}, {\"id\": 12, \"nam...   \n",
       "\n",
       "                                                cast  \\\n",
       "0  [{\"cast_id\": 242, \"character\": \"Jake Sully\", \"...   \n",
       "1  [{\"cast_id\": 4, \"character\": \"Captain Jack Spa...   \n",
       "2  [{\"cast_id\": 1, \"character\": \"James Bond\", \"cr...   \n",
       "3  [{\"cast_id\": 2, \"character\": \"Bruce Wayne / Ba...   \n",
       "4  [{\"cast_id\": 5, \"character\": \"John Carter\", \"c...   \n",
       "\n",
       "                                                crew  \n",
       "0  [{\"credit_id\": \"52fe48009251416c750aca23\", \"de...  \n",
       "1  [{\"credit_id\": \"52fe4232c3a36847f800b579\", \"de...  \n",
       "2  [{\"credit_id\": \"54805967c3a36829b5002c41\", \"de...  \n",
       "3  [{\"credit_id\": \"52fe4781c3a36847f81398c3\", \"de...  \n",
       "4  [{\"credit_id\": \"52fe479ac3a36847f813eaa3\", \"de...  "
      ]
     },
     "execution_count": 10,
     "metadata": {},
     "output_type": "execute_result"
    }
   ],
   "source": [
    "movies.head()"
   ]
  },
  {
   "cell_type": "code",
   "execution_count": 11,
   "id": "aa0c6a83-04a0-4dd2-8543-e89a66736fcd",
   "metadata": {},
   "outputs": [
    {
     "data": {
      "text/plain": [
       "movie_id    0\n",
       "title       0\n",
       "overview    3\n",
       "keywords    0\n",
       "genres      0\n",
       "cast        0\n",
       "crew        0\n",
       "dtype: int64"
      ]
     },
     "execution_count": 11,
     "metadata": {},
     "output_type": "execute_result"
    }
   ],
   "source": [
    "movies.isnull().sum()"
   ]
  },
  {
   "cell_type": "code",
   "execution_count": 12,
   "id": "3d3a481b-4805-4fb4-9088-083f4bf2d8c5",
   "metadata": {},
   "outputs": [],
   "source": [
    "# There is 3  null values in overview so drop it\n",
    "movies.dropna(inplace = True)"
   ]
  },
  {
   "cell_type": "code",
   "execution_count": 13,
   "id": "1c216a24-fc5a-4603-8603-1433a802a634",
   "metadata": {},
   "outputs": [
    {
     "data": {
      "text/plain": [
       "np.int64(0)"
      ]
     },
     "execution_count": 13,
     "metadata": {},
     "output_type": "execute_result"
    }
   ],
   "source": [
    "movies.duplicated().sum()"
   ]
  },
  {
   "cell_type": "code",
   "execution_count": 14,
   "id": "bafc81e0-2155-4cc6-9da4-090677242a3b",
   "metadata": {},
   "outputs": [
    {
     "data": {
      "text/plain": [
       "'[{\"id\": 28, \"name\": \"Action\"}, {\"id\": 12, \"name\": \"Adventure\"}, {\"id\": 14, \"name\": \"Fantasy\"}, {\"id\": 878, \"name\": \"Science Fiction\"}]'"
      ]
     },
     "execution_count": 14,
     "metadata": {},
     "output_type": "execute_result"
    }
   ],
   "source": [
    "movies.iloc[0].genres"
   ]
  },
  {
   "cell_type": "code",
   "execution_count": 15,
   "id": "39a273a5-d90c-43be-904c-fbea720a026d",
   "metadata": {},
   "outputs": [],
   "source": [
    "# make a function to convert genres data\n",
    "def convert(obj):\n",
    "    L=[]\n",
    "    for i in obj:\n",
    "        L.append(i['name'])\n",
    "    return L\n",
    "        "
   ]
  },
  {
   "cell_type": "code",
   "execution_count": 16,
   "id": "f7096731-ac9b-4fc8-9acc-ba3b22710591",
   "metadata": {},
   "outputs": [
    {
     "data": {
      "text/plain": [
       "[{'id': 28, 'name': 'Action'},\n",
       " {'id': 12, 'name': 'Adventure'},\n",
       " {'id': 14, 'name': 'Fantasy'},\n",
       " {'id': 878, 'name': 'Science Fiction'}]"
      ]
     },
     "execution_count": 16,
     "metadata": {},
     "output_type": "execute_result"
    }
   ],
   "source": [
    "import ast\n",
    "ast.literal_eval('[{\"id\": 28, \"name\": \"Action\"}, {\"id\": 12, \"name\": \"Adventure\"}, {\"id\": 14, \"name\": \"Fantasy\"}, {\"id\": 878, \"name\": \"Science Fiction\"}]')"
   ]
  },
  {
   "cell_type": "code",
   "execution_count": 17,
   "id": "f9534430-54d5-4520-a985-5e319adc7618",
   "metadata": {},
   "outputs": [],
   "source": [
    "def convert(obj):\n",
    "    L=[]\n",
    "    for i in ast.literal_eval(obj):\n",
    "        L.append(i['name'])\n",
    "    return L"
   ]
  },
  {
   "cell_type": "code",
   "execution_count": 18,
   "id": "5136f075-9675-49f5-8038-c494444f7b26",
   "metadata": {},
   "outputs": [],
   "source": [
    "movies['genres']=movies['genres'].apply(convert)"
   ]
  },
  {
   "cell_type": "code",
   "execution_count": 19,
   "id": "a1de1b00-96df-4f50-9a38-77a41df48301",
   "metadata": {},
   "outputs": [
    {
     "data": {
      "text/html": [
       "<div>\n",
       "<style scoped>\n",
       "    .dataframe tbody tr th:only-of-type {\n",
       "        vertical-align: middle;\n",
       "    }\n",
       "\n",
       "    .dataframe tbody tr th {\n",
       "        vertical-align: top;\n",
       "    }\n",
       "\n",
       "    .dataframe thead th {\n",
       "        text-align: right;\n",
       "    }\n",
       "</style>\n",
       "<table border=\"1\" class=\"dataframe\">\n",
       "  <thead>\n",
       "    <tr style=\"text-align: right;\">\n",
       "      <th></th>\n",
       "      <th>movie_id</th>\n",
       "      <th>title</th>\n",
       "      <th>overview</th>\n",
       "      <th>keywords</th>\n",
       "      <th>genres</th>\n",
       "      <th>cast</th>\n",
       "      <th>crew</th>\n",
       "    </tr>\n",
       "  </thead>\n",
       "  <tbody>\n",
       "    <tr>\n",
       "      <th>0</th>\n",
       "      <td>19995</td>\n",
       "      <td>Avatar</td>\n",
       "      <td>In the 22nd century, a paraplegic Marine is di...</td>\n",
       "      <td>[{\"id\": 1463, \"name\": \"culture clash\"}, {\"id\":...</td>\n",
       "      <td>[Action, Adventure, Fantasy, Science Fiction]</td>\n",
       "      <td>[{\"cast_id\": 242, \"character\": \"Jake Sully\", \"...</td>\n",
       "      <td>[{\"credit_id\": \"52fe48009251416c750aca23\", \"de...</td>\n",
       "    </tr>\n",
       "  </tbody>\n",
       "</table>\n",
       "</div>"
      ],
      "text/plain": [
       "   movie_id   title                                           overview  \\\n",
       "0     19995  Avatar  In the 22nd century, a paraplegic Marine is di...   \n",
       "\n",
       "                                            keywords  \\\n",
       "0  [{\"id\": 1463, \"name\": \"culture clash\"}, {\"id\":...   \n",
       "\n",
       "                                          genres  \\\n",
       "0  [Action, Adventure, Fantasy, Science Fiction]   \n",
       "\n",
       "                                                cast  \\\n",
       "0  [{\"cast_id\": 242, \"character\": \"Jake Sully\", \"...   \n",
       "\n",
       "                                                crew  \n",
       "0  [{\"credit_id\": \"52fe48009251416c750aca23\", \"de...  "
      ]
     },
     "execution_count": 19,
     "metadata": {},
     "output_type": "execute_result"
    }
   ],
   "source": [
    "movies.head(1)"
   ]
  },
  {
   "cell_type": "code",
   "execution_count": 20,
   "id": "da6e5fe4-cee3-4696-9f07-da5dc534f31e",
   "metadata": {},
   "outputs": [],
   "source": [
    "# now we convert keyword\n",
    "movies['keywords'] = movies['keywords'].apply(convert)"
   ]
  },
  {
   "cell_type": "code",
   "execution_count": 21,
   "id": "b5fa4d65-cc1f-4d88-ad19-7f5efa61456b",
   "metadata": {},
   "outputs": [
    {
     "data": {
      "text/html": [
       "<div>\n",
       "<style scoped>\n",
       "    .dataframe tbody tr th:only-of-type {\n",
       "        vertical-align: middle;\n",
       "    }\n",
       "\n",
       "    .dataframe tbody tr th {\n",
       "        vertical-align: top;\n",
       "    }\n",
       "\n",
       "    .dataframe thead th {\n",
       "        text-align: right;\n",
       "    }\n",
       "</style>\n",
       "<table border=\"1\" class=\"dataframe\">\n",
       "  <thead>\n",
       "    <tr style=\"text-align: right;\">\n",
       "      <th></th>\n",
       "      <th>movie_id</th>\n",
       "      <th>title</th>\n",
       "      <th>overview</th>\n",
       "      <th>keywords</th>\n",
       "      <th>genres</th>\n",
       "      <th>cast</th>\n",
       "      <th>crew</th>\n",
       "    </tr>\n",
       "  </thead>\n",
       "  <tbody>\n",
       "    <tr>\n",
       "      <th>0</th>\n",
       "      <td>19995</td>\n",
       "      <td>Avatar</td>\n",
       "      <td>In the 22nd century, a paraplegic Marine is di...</td>\n",
       "      <td>[culture clash, future, space war, space colon...</td>\n",
       "      <td>[Action, Adventure, Fantasy, Science Fiction]</td>\n",
       "      <td>[{\"cast_id\": 242, \"character\": \"Jake Sully\", \"...</td>\n",
       "      <td>[{\"credit_id\": \"52fe48009251416c750aca23\", \"de...</td>\n",
       "    </tr>\n",
       "    <tr>\n",
       "      <th>1</th>\n",
       "      <td>285</td>\n",
       "      <td>Pirates of the Caribbean: At World's End</td>\n",
       "      <td>Captain Barbossa, long believed to be dead, ha...</td>\n",
       "      <td>[ocean, drug abuse, exotic island, east india ...</td>\n",
       "      <td>[Adventure, Fantasy, Action]</td>\n",
       "      <td>[{\"cast_id\": 4, \"character\": \"Captain Jack Spa...</td>\n",
       "      <td>[{\"credit_id\": \"52fe4232c3a36847f800b579\", \"de...</td>\n",
       "    </tr>\n",
       "    <tr>\n",
       "      <th>2</th>\n",
       "      <td>206647</td>\n",
       "      <td>Spectre</td>\n",
       "      <td>A cryptic message from Bond’s past sends him o...</td>\n",
       "      <td>[spy, based on novel, secret agent, sequel, mi...</td>\n",
       "      <td>[Action, Adventure, Crime]</td>\n",
       "      <td>[{\"cast_id\": 1, \"character\": \"James Bond\", \"cr...</td>\n",
       "      <td>[{\"credit_id\": \"54805967c3a36829b5002c41\", \"de...</td>\n",
       "    </tr>\n",
       "    <tr>\n",
       "      <th>3</th>\n",
       "      <td>49026</td>\n",
       "      <td>The Dark Knight Rises</td>\n",
       "      <td>Following the death of District Attorney Harve...</td>\n",
       "      <td>[dc comics, crime fighter, terrorist, secret i...</td>\n",
       "      <td>[Action, Crime, Drama, Thriller]</td>\n",
       "      <td>[{\"cast_id\": 2, \"character\": \"Bruce Wayne / Ba...</td>\n",
       "      <td>[{\"credit_id\": \"52fe4781c3a36847f81398c3\", \"de...</td>\n",
       "    </tr>\n",
       "    <tr>\n",
       "      <th>4</th>\n",
       "      <td>49529</td>\n",
       "      <td>John Carter</td>\n",
       "      <td>John Carter is a war-weary, former military ca...</td>\n",
       "      <td>[based on novel, mars, medallion, space travel...</td>\n",
       "      <td>[Action, Adventure, Science Fiction]</td>\n",
       "      <td>[{\"cast_id\": 5, \"character\": \"John Carter\", \"c...</td>\n",
       "      <td>[{\"credit_id\": \"52fe479ac3a36847f813eaa3\", \"de...</td>\n",
       "    </tr>\n",
       "  </tbody>\n",
       "</table>\n",
       "</div>"
      ],
      "text/plain": [
       "   movie_id                                     title  \\\n",
       "0     19995                                    Avatar   \n",
       "1       285  Pirates of the Caribbean: At World's End   \n",
       "2    206647                                   Spectre   \n",
       "3     49026                     The Dark Knight Rises   \n",
       "4     49529                               John Carter   \n",
       "\n",
       "                                            overview  \\\n",
       "0  In the 22nd century, a paraplegic Marine is di...   \n",
       "1  Captain Barbossa, long believed to be dead, ha...   \n",
       "2  A cryptic message from Bond’s past sends him o...   \n",
       "3  Following the death of District Attorney Harve...   \n",
       "4  John Carter is a war-weary, former military ca...   \n",
       "\n",
       "                                            keywords  \\\n",
       "0  [culture clash, future, space war, space colon...   \n",
       "1  [ocean, drug abuse, exotic island, east india ...   \n",
       "2  [spy, based on novel, secret agent, sequel, mi...   \n",
       "3  [dc comics, crime fighter, terrorist, secret i...   \n",
       "4  [based on novel, mars, medallion, space travel...   \n",
       "\n",
       "                                          genres  \\\n",
       "0  [Action, Adventure, Fantasy, Science Fiction]   \n",
       "1                   [Adventure, Fantasy, Action]   \n",
       "2                     [Action, Adventure, Crime]   \n",
       "3               [Action, Crime, Drama, Thriller]   \n",
       "4           [Action, Adventure, Science Fiction]   \n",
       "\n",
       "                                                cast  \\\n",
       "0  [{\"cast_id\": 242, \"character\": \"Jake Sully\", \"...   \n",
       "1  [{\"cast_id\": 4, \"character\": \"Captain Jack Spa...   \n",
       "2  [{\"cast_id\": 1, \"character\": \"James Bond\", \"cr...   \n",
       "3  [{\"cast_id\": 2, \"character\": \"Bruce Wayne / Ba...   \n",
       "4  [{\"cast_id\": 5, \"character\": \"John Carter\", \"c...   \n",
       "\n",
       "                                                crew  \n",
       "0  [{\"credit_id\": \"52fe48009251416c750aca23\", \"de...  \n",
       "1  [{\"credit_id\": \"52fe4232c3a36847f800b579\", \"de...  \n",
       "2  [{\"credit_id\": \"54805967c3a36829b5002c41\", \"de...  \n",
       "3  [{\"credit_id\": \"52fe4781c3a36847f81398c3\", \"de...  \n",
       "4  [{\"credit_id\": \"52fe479ac3a36847f813eaa3\", \"de...  "
      ]
     },
     "execution_count": 21,
     "metadata": {},
     "output_type": "execute_result"
    }
   ],
   "source": [
    "movies.head()"
   ]
  },
  {
   "cell_type": "code",
   "execution_count": 22,
   "id": "1b91715b-62fb-4756-949f-b37bf3d12ca5",
   "metadata": {},
   "outputs": [
    {
     "data": {
      "text/plain": [
       "'[{\"cast_id\": 242, \"character\": \"Jake Sully\", \"credit_id\": \"5602a8a7c3a3685532001c9a\", \"gender\": 2, \"id\": 65731, \"name\": \"Sam Worthington\", \"order\": 0}, {\"cast_id\": 3, \"character\": \"Neytiri\", \"credit_id\": \"52fe48009251416c750ac9cb\", \"gender\": 1, \"id\": 8691, \"name\": \"Zoe Saldana\", \"order\": 1}, {\"cast_id\": 25, \"character\": \"Dr. Grace Augustine\", \"credit_id\": \"52fe48009251416c750aca39\", \"gender\": 1, \"id\": 10205, \"name\": \"Sigourney Weaver\", \"order\": 2}, {\"cast_id\": 4, \"character\": \"Col. Quaritch\", \"credit_id\": \"52fe48009251416c750ac9cf\", \"gender\": 2, \"id\": 32747, \"name\": \"Stephen Lang\", \"order\": 3}, {\"cast_id\": 5, \"character\": \"Trudy Chacon\", \"credit_id\": \"52fe48009251416c750ac9d3\", \"gender\": 1, \"id\": 17647, \"name\": \"Michelle Rodriguez\", \"order\": 4}, {\"cast_id\": 8, \"character\": \"Selfridge\", \"credit_id\": \"52fe48009251416c750ac9e1\", \"gender\": 2, \"id\": 1771, \"name\": \"Giovanni Ribisi\", \"order\": 5}, {\"cast_id\": 7, \"character\": \"Norm Spellman\", \"credit_id\": \"52fe48009251416c750ac9dd\", \"gender\": 2, \"id\": 59231, \"name\": \"Joel David Moore\", \"order\": 6}, {\"cast_id\": 9, \"character\": \"Moat\", \"credit_id\": \"52fe48009251416c750ac9e5\", \"gender\": 1, \"id\": 30485, \"name\": \"CCH Pounder\", \"order\": 7}, {\"cast_id\": 11, \"character\": \"Eytukan\", \"credit_id\": \"52fe48009251416c750ac9ed\", \"gender\": 2, \"id\": 15853, \"name\": \"Wes Studi\", \"order\": 8}, {\"cast_id\": 10, \"character\": \"Tsu\\'Tey\", \"credit_id\": \"52fe48009251416c750ac9e9\", \"gender\": 2, \"id\": 10964, \"name\": \"Laz Alonso\", \"order\": 9}, {\"cast_id\": 12, \"character\": \"Dr. Max Patel\", \"credit_id\": \"52fe48009251416c750ac9f1\", \"gender\": 2, \"id\": 95697, \"name\": \"Dileep Rao\", \"order\": 10}, {\"cast_id\": 13, \"character\": \"Lyle Wainfleet\", \"credit_id\": \"52fe48009251416c750ac9f5\", \"gender\": 2, \"id\": 98215, \"name\": \"Matt Gerald\", \"order\": 11}, {\"cast_id\": 32, \"character\": \"Private Fike\", \"credit_id\": \"52fe48009251416c750aca5b\", \"gender\": 2, \"id\": 154153, \"name\": \"Sean Anthony Moran\", \"order\": 12}, {\"cast_id\": 33, \"character\": \"Cryo Vault Med Tech\", \"credit_id\": \"52fe48009251416c750aca5f\", \"gender\": 2, \"id\": 397312, \"name\": \"Jason Whyte\", \"order\": 13}, {\"cast_id\": 34, \"character\": \"Venture Star Crew Chief\", \"credit_id\": \"52fe48009251416c750aca63\", \"gender\": 2, \"id\": 42317, \"name\": \"Scott Lawrence\", \"order\": 14}, {\"cast_id\": 35, \"character\": \"Lock Up Trooper\", \"credit_id\": \"52fe48009251416c750aca67\", \"gender\": 2, \"id\": 986734, \"name\": \"Kelly Kilgour\", \"order\": 15}, {\"cast_id\": 36, \"character\": \"Shuttle Pilot\", \"credit_id\": \"52fe48009251416c750aca6b\", \"gender\": 0, \"id\": 1207227, \"name\": \"James Patrick Pitt\", \"order\": 16}, {\"cast_id\": 37, \"character\": \"Shuttle Co-Pilot\", \"credit_id\": \"52fe48009251416c750aca6f\", \"gender\": 0, \"id\": 1180936, \"name\": \"Sean Patrick Murphy\", \"order\": 17}, {\"cast_id\": 38, \"character\": \"Shuttle Crew Chief\", \"credit_id\": \"52fe48009251416c750aca73\", \"gender\": 2, \"id\": 1019578, \"name\": \"Peter Dillon\", \"order\": 18}, {\"cast_id\": 39, \"character\": \"Tractor Operator / Troupe\", \"credit_id\": \"52fe48009251416c750aca77\", \"gender\": 0, \"id\": 91443, \"name\": \"Kevin Dorman\", \"order\": 19}, {\"cast_id\": 40, \"character\": \"Dragon Gunship Pilot\", \"credit_id\": \"52fe48009251416c750aca7b\", \"gender\": 2, \"id\": 173391, \"name\": \"Kelson Henderson\", \"order\": 20}, {\"cast_id\": 41, \"character\": \"Dragon Gunship Gunner\", \"credit_id\": \"52fe48009251416c750aca7f\", \"gender\": 0, \"id\": 1207236, \"name\": \"David Van Horn\", \"order\": 21}, {\"cast_id\": 42, \"character\": \"Dragon Gunship Navigator\", \"credit_id\": \"52fe48009251416c750aca83\", \"gender\": 0, \"id\": 215913, \"name\": \"Jacob Tomuri\", \"order\": 22}, {\"cast_id\": 43, \"character\": \"Suit #1\", \"credit_id\": \"52fe48009251416c750aca87\", \"gender\": 0, \"id\": 143206, \"name\": \"Michael Blain-Rozgay\", \"order\": 23}, {\"cast_id\": 44, \"character\": \"Suit #2\", \"credit_id\": \"52fe48009251416c750aca8b\", \"gender\": 2, \"id\": 169676, \"name\": \"Jon Curry\", \"order\": 24}, {\"cast_id\": 46, \"character\": \"Ambient Room Tech\", \"credit_id\": \"52fe48009251416c750aca8f\", \"gender\": 0, \"id\": 1048610, \"name\": \"Luke Hawker\", \"order\": 25}, {\"cast_id\": 47, \"character\": \"Ambient Room Tech / Troupe\", \"credit_id\": \"52fe48009251416c750aca93\", \"gender\": 0, \"id\": 42288, \"name\": \"Woody Schultz\", \"order\": 26}, {\"cast_id\": 48, \"character\": \"Horse Clan Leader\", \"credit_id\": \"52fe48009251416c750aca97\", \"gender\": 2, \"id\": 68278, \"name\": \"Peter Mensah\", \"order\": 27}, {\"cast_id\": 49, \"character\": \"Link Room Tech\", \"credit_id\": \"52fe48009251416c750aca9b\", \"gender\": 0, \"id\": 1207247, \"name\": \"Sonia Yee\", \"order\": 28}, {\"cast_id\": 50, \"character\": \"Basketball Avatar / Troupe\", \"credit_id\": \"52fe48009251416c750aca9f\", \"gender\": 1, \"id\": 1207248, \"name\": \"Jahnel Curfman\", \"order\": 29}, {\"cast_id\": 51, \"character\": \"Basketball Avatar\", \"credit_id\": \"52fe48009251416c750acaa3\", \"gender\": 0, \"id\": 89714, \"name\": \"Ilram Choi\", \"order\": 30}, {\"cast_id\": 52, \"character\": \"Na\\'vi Child\", \"credit_id\": \"52fe48009251416c750acaa7\", \"gender\": 0, \"id\": 1207249, \"name\": \"Kyla Warren\", \"order\": 31}, {\"cast_id\": 53, \"character\": \"Troupe\", \"credit_id\": \"52fe48009251416c750acaab\", \"gender\": 0, \"id\": 1207250, \"name\": \"Lisa Roumain\", \"order\": 32}, {\"cast_id\": 54, \"character\": \"Troupe\", \"credit_id\": \"52fe48009251416c750acaaf\", \"gender\": 1, \"id\": 83105, \"name\": \"Debra Wilson\", \"order\": 33}, {\"cast_id\": 57, \"character\": \"Troupe\", \"credit_id\": \"52fe48009251416c750acabb\", \"gender\": 0, \"id\": 1207253, \"name\": \"Chris Mala\", \"order\": 34}, {\"cast_id\": 55, \"character\": \"Troupe\", \"credit_id\": \"52fe48009251416c750acab3\", \"gender\": 0, \"id\": 1207251, \"name\": \"Taylor Kibby\", \"order\": 35}, {\"cast_id\": 56, \"character\": \"Troupe\", \"credit_id\": \"52fe48009251416c750acab7\", \"gender\": 0, \"id\": 1207252, \"name\": \"Jodie Landau\", \"order\": 36}, {\"cast_id\": 58, \"character\": \"Troupe\", \"credit_id\": \"52fe48009251416c750acabf\", \"gender\": 0, \"id\": 1207254, \"name\": \"Julie Lamm\", \"order\": 37}, {\"cast_id\": 59, \"character\": \"Troupe\", \"credit_id\": \"52fe48009251416c750acac3\", \"gender\": 0, \"id\": 1207257, \"name\": \"Cullen B. Madden\", \"order\": 38}, {\"cast_id\": 60, \"character\": \"Troupe\", \"credit_id\": \"52fe48009251416c750acac7\", \"gender\": 0, \"id\": 1207259, \"name\": \"Joseph Brady Madden\", \"order\": 39}, {\"cast_id\": 61, \"character\": \"Troupe\", \"credit_id\": \"52fe48009251416c750acacb\", \"gender\": 0, \"id\": 1207262, \"name\": \"Frankie Torres\", \"order\": 40}, {\"cast_id\": 62, \"character\": \"Troupe\", \"credit_id\": \"52fe48009251416c750acacf\", \"gender\": 1, \"id\": 1158600, \"name\": \"Austin Wilson\", \"order\": 41}, {\"cast_id\": 63, \"character\": \"Troupe\", \"credit_id\": \"52fe48019251416c750acad3\", \"gender\": 1, \"id\": 983705, \"name\": \"Sara Wilson\", \"order\": 42}, {\"cast_id\": 64, \"character\": \"Troupe\", \"credit_id\": \"52fe48019251416c750acad7\", \"gender\": 0, \"id\": 1207263, \"name\": \"Tamica Washington-Miller\", \"order\": 43}, {\"cast_id\": 65, \"character\": \"Op Center Staff\", \"credit_id\": \"52fe48019251416c750acadb\", \"gender\": 1, \"id\": 1145098, \"name\": \"Lucy Briant\", \"order\": 44}, {\"cast_id\": 66, \"character\": \"Op Center Staff\", \"credit_id\": \"52fe48019251416c750acadf\", \"gender\": 2, \"id\": 33305, \"name\": \"Nathan Meister\", \"order\": 45}, {\"cast_id\": 67, \"character\": \"Op Center Staff\", \"credit_id\": \"52fe48019251416c750acae3\", \"gender\": 0, \"id\": 1207264, \"name\": \"Gerry Blair\", \"order\": 46}, {\"cast_id\": 68, \"character\": \"Op Center Staff\", \"credit_id\": \"52fe48019251416c750acae7\", \"gender\": 2, \"id\": 33311, \"name\": \"Matthew Chamberlain\", \"order\": 47}, {\"cast_id\": 69, \"character\": \"Op Center Staff\", \"credit_id\": \"52fe48019251416c750acaeb\", \"gender\": 0, \"id\": 1207265, \"name\": \"Paul Yates\", \"order\": 48}, {\"cast_id\": 70, \"character\": \"Op Center Duty Officer\", \"credit_id\": \"52fe48019251416c750acaef\", \"gender\": 0, \"id\": 1207266, \"name\": \"Wray Wilson\", \"order\": 49}, {\"cast_id\": 71, \"character\": \"Op Center Staff\", \"credit_id\": \"52fe48019251416c750acaf3\", \"gender\": 2, \"id\": 54492, \"name\": \"James Gaylyn\", \"order\": 50}, {\"cast_id\": 72, \"character\": \"Dancer\", \"credit_id\": \"52fe48019251416c750acaf7\", \"gender\": 0, \"id\": 1207267, \"name\": \"Melvin Leno Clark III\", \"order\": 51}, {\"cast_id\": 73, \"character\": \"Dancer\", \"credit_id\": \"52fe48019251416c750acafb\", \"gender\": 0, \"id\": 1207268, \"name\": \"Carvon Futrell\", \"order\": 52}, {\"cast_id\": 74, \"character\": \"Dancer\", \"credit_id\": \"52fe48019251416c750acaff\", \"gender\": 0, \"id\": 1207269, \"name\": \"Brandon Jelkes\", \"order\": 53}, {\"cast_id\": 75, \"character\": \"Dancer\", \"credit_id\": \"52fe48019251416c750acb03\", \"gender\": 0, \"id\": 1207270, \"name\": \"Micah Moch\", \"order\": 54}, {\"cast_id\": 76, \"character\": \"Dancer\", \"credit_id\": \"52fe48019251416c750acb07\", \"gender\": 0, \"id\": 1207271, \"name\": \"Hanniyah Muhammad\", \"order\": 55}, {\"cast_id\": 77, \"character\": \"Dancer\", \"credit_id\": \"52fe48019251416c750acb0b\", \"gender\": 0, \"id\": 1207272, \"name\": \"Christopher Nolen\", \"order\": 56}, {\"cast_id\": 78, \"character\": \"Dancer\", \"credit_id\": \"52fe48019251416c750acb0f\", \"gender\": 0, \"id\": 1207273, \"name\": \"Christa Oliver\", \"order\": 57}, {\"cast_id\": 79, \"character\": \"Dancer\", \"credit_id\": \"52fe48019251416c750acb13\", \"gender\": 0, \"id\": 1207274, \"name\": \"April Marie Thomas\", \"order\": 58}, {\"cast_id\": 80, \"character\": \"Dancer\", \"credit_id\": \"52fe48019251416c750acb17\", \"gender\": 0, \"id\": 1207275, \"name\": \"Bravita A. Threatt\", \"order\": 59}, {\"cast_id\": 81, \"character\": \"Mining Chief (uncredited)\", \"credit_id\": \"52fe48019251416c750acb1b\", \"gender\": 0, \"id\": 1207276, \"name\": \"Colin Bleasdale\", \"order\": 60}, {\"cast_id\": 82, \"character\": \"Veteran Miner (uncredited)\", \"credit_id\": \"52fe48019251416c750acb1f\", \"gender\": 0, \"id\": 107969, \"name\": \"Mike Bodnar\", \"order\": 61}, {\"cast_id\": 83, \"character\": \"Richard (uncredited)\", \"credit_id\": \"52fe48019251416c750acb23\", \"gender\": 0, \"id\": 1207278, \"name\": \"Matt Clayton\", \"order\": 62}, {\"cast_id\": 84, \"character\": \"Nav\\'i (uncredited)\", \"credit_id\": \"52fe48019251416c750acb27\", \"gender\": 1, \"id\": 147898, \"name\": \"Nicole Dionne\", \"order\": 63}, {\"cast_id\": 85, \"character\": \"Trooper (uncredited)\", \"credit_id\": \"52fe48019251416c750acb2b\", \"gender\": 0, \"id\": 1207280, \"name\": \"Jamie Harrison\", \"order\": 64}, {\"cast_id\": 86, \"character\": \"Trooper (uncredited)\", \"credit_id\": \"52fe48019251416c750acb2f\", \"gender\": 0, \"id\": 1207281, \"name\": \"Allan Henry\", \"order\": 65}, {\"cast_id\": 87, \"character\": \"Ground Technician (uncredited)\", \"credit_id\": \"52fe48019251416c750acb33\", \"gender\": 2, \"id\": 1207282, \"name\": \"Anthony Ingruber\", \"order\": 66}, {\"cast_id\": 88, \"character\": \"Flight Crew Mechanic (uncredited)\", \"credit_id\": \"52fe48019251416c750acb37\", \"gender\": 0, \"id\": 1207283, \"name\": \"Ashley Jeffery\", \"order\": 67}, {\"cast_id\": 14, \"character\": \"Samson Pilot\", \"credit_id\": \"52fe48009251416c750ac9f9\", \"gender\": 0, \"id\": 98216, \"name\": \"Dean Knowsley\", \"order\": 68}, {\"cast_id\": 89, \"character\": \"Trooper (uncredited)\", \"credit_id\": \"52fe48019251416c750acb3b\", \"gender\": 0, \"id\": 1201399, \"name\": \"Joseph Mika-Hunt\", \"order\": 69}, {\"cast_id\": 90, \"character\": \"Banshee (uncredited)\", \"credit_id\": \"52fe48019251416c750acb3f\", \"gender\": 0, \"id\": 236696, \"name\": \"Terry Notary\", \"order\": 70}, {\"cast_id\": 91, \"character\": \"Soldier (uncredited)\", \"credit_id\": \"52fe48019251416c750acb43\", \"gender\": 0, \"id\": 1207287, \"name\": \"Kai Pantano\", \"order\": 71}, {\"cast_id\": 92, \"character\": \"Blast Technician (uncredited)\", \"credit_id\": \"52fe48019251416c750acb47\", \"gender\": 0, \"id\": 1207288, \"name\": \"Logan Pithyou\", \"order\": 72}, {\"cast_id\": 93, \"character\": \"Vindum Raah (uncredited)\", \"credit_id\": \"52fe48019251416c750acb4b\", \"gender\": 0, \"id\": 1207289, \"name\": \"Stuart Pollock\", \"order\": 73}, {\"cast_id\": 94, \"character\": \"Hero (uncredited)\", \"credit_id\": \"52fe48019251416c750acb4f\", \"gender\": 0, \"id\": 584868, \"name\": \"Raja\", \"order\": 74}, {\"cast_id\": 95, \"character\": \"Ops Centreworker (uncredited)\", \"credit_id\": \"52fe48019251416c750acb53\", \"gender\": 0, \"id\": 1207290, \"name\": \"Gareth Ruck\", \"order\": 75}, {\"cast_id\": 96, \"character\": \"Engineer (uncredited)\", \"credit_id\": \"52fe48019251416c750acb57\", \"gender\": 0, \"id\": 1062463, \"name\": \"Rhian Sheehan\", \"order\": 76}, {\"cast_id\": 97, \"character\": \"Col. Quaritch\\'s Mech Suit (uncredited)\", \"credit_id\": \"52fe48019251416c750acb5b\", \"gender\": 0, \"id\": 60656, \"name\": \"T. J. Storm\", \"order\": 77}, {\"cast_id\": 98, \"character\": \"Female Marine (uncredited)\", \"credit_id\": \"52fe48019251416c750acb5f\", \"gender\": 0, \"id\": 1207291, \"name\": \"Jodie Taylor\", \"order\": 78}, {\"cast_id\": 99, \"character\": \"Ikran Clan Leader (uncredited)\", \"credit_id\": \"52fe48019251416c750acb63\", \"gender\": 1, \"id\": 1186027, \"name\": \"Alicia Vela-Bailey\", \"order\": 79}, {\"cast_id\": 100, \"character\": \"Geologist (uncredited)\", \"credit_id\": \"52fe48019251416c750acb67\", \"gender\": 0, \"id\": 1207292, \"name\": \"Richard Whiteside\", \"order\": 80}, {\"cast_id\": 101, \"character\": \"Na\\'vi (uncredited)\", \"credit_id\": \"52fe48019251416c750acb6b\", \"gender\": 0, \"id\": 103259, \"name\": \"Nikie Zambo\", \"order\": 81}, {\"cast_id\": 102, \"character\": \"Ambient Room Tech / Troupe\", \"credit_id\": \"52fe48019251416c750acb6f\", \"gender\": 1, \"id\": 42286, \"name\": \"Julene Renee\", \"order\": 82}]'"
      ]
     },
     "execution_count": 22,
     "metadata": {},
     "output_type": "execute_result"
    }
   ],
   "source": [
    "# Find to 3 actor\n",
    "movies['cast'][0]"
   ]
  },
  {
   "cell_type": "code",
   "execution_count": 23,
   "id": "73522868-09ac-450d-b0c9-1a6d872e70c4",
   "metadata": {},
   "outputs": [],
   "source": [
    "import ast\n",
    "def find3(obj):\n",
    "    L = []\n",
    "    counter = 0\n",
    "    for i in ast.literal_eval(obj):\n",
    "        if counter!=3:\n",
    "            L.append(i['name'])\n",
    "            counter+=1\n",
    "        else:\n",
    "             break\n",
    "    return L"
   ]
  },
  {
   "cell_type": "code",
   "execution_count": 24,
   "id": "e6599323-4403-4a24-a92c-9d57e73b6151",
   "metadata": {},
   "outputs": [],
   "source": [
    "# 3 main actor from each movies\n",
    "movies['cast']=movies['cast'].apply(find3)"
   ]
  },
  {
   "cell_type": "code",
   "execution_count": 25,
   "id": "ffff11ec-eb6e-4548-9b7f-6fde20676045",
   "metadata": {},
   "outputs": [
    {
     "data": {
      "text/html": [
       "<div>\n",
       "<style scoped>\n",
       "    .dataframe tbody tr th:only-of-type {\n",
       "        vertical-align: middle;\n",
       "    }\n",
       "\n",
       "    .dataframe tbody tr th {\n",
       "        vertical-align: top;\n",
       "    }\n",
       "\n",
       "    .dataframe thead th {\n",
       "        text-align: right;\n",
       "    }\n",
       "</style>\n",
       "<table border=\"1\" class=\"dataframe\">\n",
       "  <thead>\n",
       "    <tr style=\"text-align: right;\">\n",
       "      <th></th>\n",
       "      <th>movie_id</th>\n",
       "      <th>title</th>\n",
       "      <th>overview</th>\n",
       "      <th>keywords</th>\n",
       "      <th>genres</th>\n",
       "      <th>cast</th>\n",
       "      <th>crew</th>\n",
       "    </tr>\n",
       "  </thead>\n",
       "  <tbody>\n",
       "    <tr>\n",
       "      <th>0</th>\n",
       "      <td>19995</td>\n",
       "      <td>Avatar</td>\n",
       "      <td>In the 22nd century, a paraplegic Marine is di...</td>\n",
       "      <td>[culture clash, future, space war, space colon...</td>\n",
       "      <td>[Action, Adventure, Fantasy, Science Fiction]</td>\n",
       "      <td>[Sam Worthington, Zoe Saldana, Sigourney Weaver]</td>\n",
       "      <td>[{\"credit_id\": \"52fe48009251416c750aca23\", \"de...</td>\n",
       "    </tr>\n",
       "    <tr>\n",
       "      <th>1</th>\n",
       "      <td>285</td>\n",
       "      <td>Pirates of the Caribbean: At World's End</td>\n",
       "      <td>Captain Barbossa, long believed to be dead, ha...</td>\n",
       "      <td>[ocean, drug abuse, exotic island, east india ...</td>\n",
       "      <td>[Adventure, Fantasy, Action]</td>\n",
       "      <td>[Johnny Depp, Orlando Bloom, Keira Knightley]</td>\n",
       "      <td>[{\"credit_id\": \"52fe4232c3a36847f800b579\", \"de...</td>\n",
       "    </tr>\n",
       "    <tr>\n",
       "      <th>2</th>\n",
       "      <td>206647</td>\n",
       "      <td>Spectre</td>\n",
       "      <td>A cryptic message from Bond’s past sends him o...</td>\n",
       "      <td>[spy, based on novel, secret agent, sequel, mi...</td>\n",
       "      <td>[Action, Adventure, Crime]</td>\n",
       "      <td>[Daniel Craig, Christoph Waltz, Léa Seydoux]</td>\n",
       "      <td>[{\"credit_id\": \"54805967c3a36829b5002c41\", \"de...</td>\n",
       "    </tr>\n",
       "    <tr>\n",
       "      <th>3</th>\n",
       "      <td>49026</td>\n",
       "      <td>The Dark Knight Rises</td>\n",
       "      <td>Following the death of District Attorney Harve...</td>\n",
       "      <td>[dc comics, crime fighter, terrorist, secret i...</td>\n",
       "      <td>[Action, Crime, Drama, Thriller]</td>\n",
       "      <td>[Christian Bale, Michael Caine, Gary Oldman]</td>\n",
       "      <td>[{\"credit_id\": \"52fe4781c3a36847f81398c3\", \"de...</td>\n",
       "    </tr>\n",
       "    <tr>\n",
       "      <th>4</th>\n",
       "      <td>49529</td>\n",
       "      <td>John Carter</td>\n",
       "      <td>John Carter is a war-weary, former military ca...</td>\n",
       "      <td>[based on novel, mars, medallion, space travel...</td>\n",
       "      <td>[Action, Adventure, Science Fiction]</td>\n",
       "      <td>[Taylor Kitsch, Lynn Collins, Samantha Morton]</td>\n",
       "      <td>[{\"credit_id\": \"52fe479ac3a36847f813eaa3\", \"de...</td>\n",
       "    </tr>\n",
       "  </tbody>\n",
       "</table>\n",
       "</div>"
      ],
      "text/plain": [
       "   movie_id                                     title  \\\n",
       "0     19995                                    Avatar   \n",
       "1       285  Pirates of the Caribbean: At World's End   \n",
       "2    206647                                   Spectre   \n",
       "3     49026                     The Dark Knight Rises   \n",
       "4     49529                               John Carter   \n",
       "\n",
       "                                            overview  \\\n",
       "0  In the 22nd century, a paraplegic Marine is di...   \n",
       "1  Captain Barbossa, long believed to be dead, ha...   \n",
       "2  A cryptic message from Bond’s past sends him o...   \n",
       "3  Following the death of District Attorney Harve...   \n",
       "4  John Carter is a war-weary, former military ca...   \n",
       "\n",
       "                                            keywords  \\\n",
       "0  [culture clash, future, space war, space colon...   \n",
       "1  [ocean, drug abuse, exotic island, east india ...   \n",
       "2  [spy, based on novel, secret agent, sequel, mi...   \n",
       "3  [dc comics, crime fighter, terrorist, secret i...   \n",
       "4  [based on novel, mars, medallion, space travel...   \n",
       "\n",
       "                                          genres  \\\n",
       "0  [Action, Adventure, Fantasy, Science Fiction]   \n",
       "1                   [Adventure, Fantasy, Action]   \n",
       "2                     [Action, Adventure, Crime]   \n",
       "3               [Action, Crime, Drama, Thriller]   \n",
       "4           [Action, Adventure, Science Fiction]   \n",
       "\n",
       "                                               cast  \\\n",
       "0  [Sam Worthington, Zoe Saldana, Sigourney Weaver]   \n",
       "1     [Johnny Depp, Orlando Bloom, Keira Knightley]   \n",
       "2      [Daniel Craig, Christoph Waltz, Léa Seydoux]   \n",
       "3      [Christian Bale, Michael Caine, Gary Oldman]   \n",
       "4    [Taylor Kitsch, Lynn Collins, Samantha Morton]   \n",
       "\n",
       "                                                crew  \n",
       "0  [{\"credit_id\": \"52fe48009251416c750aca23\", \"de...  \n",
       "1  [{\"credit_id\": \"52fe4232c3a36847f800b579\", \"de...  \n",
       "2  [{\"credit_id\": \"54805967c3a36829b5002c41\", \"de...  \n",
       "3  [{\"credit_id\": \"52fe4781c3a36847f81398c3\", \"de...  \n",
       "4  [{\"credit_id\": \"52fe479ac3a36847f813eaa3\", \"de...  "
      ]
     },
     "execution_count": 25,
     "metadata": {},
     "output_type": "execute_result"
    }
   ],
   "source": [
    "movies.head()"
   ]
  },
  {
   "cell_type": "code",
   "execution_count": 26,
   "id": "caece4c2-ec9f-490f-9cd9-9ed1f91ecc78",
   "metadata": {},
   "outputs": [],
   "source": [
    "# Find the director name is from crew\n",
    "def fetch_director(obj):\n",
    "    L = []\n",
    "    for i in ast.literal_eval(obj):\n",
    "        if i['job']=='Director':\n",
    "            L.append(i['name'])\n",
    "            break\n",
    "    return L\n",
    "    "
   ]
  },
  {
   "cell_type": "code",
   "execution_count": 27,
   "id": "ad7a2f54-c510-488c-b436-99635d59d40e",
   "metadata": {},
   "outputs": [],
   "source": [
    "movies['crew']=movies['crew'].apply(fetch_director)"
   ]
  },
  {
   "cell_type": "code",
   "execution_count": 28,
   "id": "9823b8a7-e006-49f9-8a7f-907c5e84eb40",
   "metadata": {},
   "outputs": [
    {
     "data": {
      "text/html": [
       "<div>\n",
       "<style scoped>\n",
       "    .dataframe tbody tr th:only-of-type {\n",
       "        vertical-align: middle;\n",
       "    }\n",
       "\n",
       "    .dataframe tbody tr th {\n",
       "        vertical-align: top;\n",
       "    }\n",
       "\n",
       "    .dataframe thead th {\n",
       "        text-align: right;\n",
       "    }\n",
       "</style>\n",
       "<table border=\"1\" class=\"dataframe\">\n",
       "  <thead>\n",
       "    <tr style=\"text-align: right;\">\n",
       "      <th></th>\n",
       "      <th>movie_id</th>\n",
       "      <th>title</th>\n",
       "      <th>overview</th>\n",
       "      <th>keywords</th>\n",
       "      <th>genres</th>\n",
       "      <th>cast</th>\n",
       "      <th>crew</th>\n",
       "    </tr>\n",
       "  </thead>\n",
       "  <tbody>\n",
       "    <tr>\n",
       "      <th>0</th>\n",
       "      <td>19995</td>\n",
       "      <td>Avatar</td>\n",
       "      <td>In the 22nd century, a paraplegic Marine is di...</td>\n",
       "      <td>[culture clash, future, space war, space colon...</td>\n",
       "      <td>[Action, Adventure, Fantasy, Science Fiction]</td>\n",
       "      <td>[Sam Worthington, Zoe Saldana, Sigourney Weaver]</td>\n",
       "      <td>[James Cameron]</td>\n",
       "    </tr>\n",
       "    <tr>\n",
       "      <th>1</th>\n",
       "      <td>285</td>\n",
       "      <td>Pirates of the Caribbean: At World's End</td>\n",
       "      <td>Captain Barbossa, long believed to be dead, ha...</td>\n",
       "      <td>[ocean, drug abuse, exotic island, east india ...</td>\n",
       "      <td>[Adventure, Fantasy, Action]</td>\n",
       "      <td>[Johnny Depp, Orlando Bloom, Keira Knightley]</td>\n",
       "      <td>[Gore Verbinski]</td>\n",
       "    </tr>\n",
       "    <tr>\n",
       "      <th>2</th>\n",
       "      <td>206647</td>\n",
       "      <td>Spectre</td>\n",
       "      <td>A cryptic message from Bond’s past sends him o...</td>\n",
       "      <td>[spy, based on novel, secret agent, sequel, mi...</td>\n",
       "      <td>[Action, Adventure, Crime]</td>\n",
       "      <td>[Daniel Craig, Christoph Waltz, Léa Seydoux]</td>\n",
       "      <td>[Sam Mendes]</td>\n",
       "    </tr>\n",
       "    <tr>\n",
       "      <th>3</th>\n",
       "      <td>49026</td>\n",
       "      <td>The Dark Knight Rises</td>\n",
       "      <td>Following the death of District Attorney Harve...</td>\n",
       "      <td>[dc comics, crime fighter, terrorist, secret i...</td>\n",
       "      <td>[Action, Crime, Drama, Thriller]</td>\n",
       "      <td>[Christian Bale, Michael Caine, Gary Oldman]</td>\n",
       "      <td>[Christopher Nolan]</td>\n",
       "    </tr>\n",
       "    <tr>\n",
       "      <th>4</th>\n",
       "      <td>49529</td>\n",
       "      <td>John Carter</td>\n",
       "      <td>John Carter is a war-weary, former military ca...</td>\n",
       "      <td>[based on novel, mars, medallion, space travel...</td>\n",
       "      <td>[Action, Adventure, Science Fiction]</td>\n",
       "      <td>[Taylor Kitsch, Lynn Collins, Samantha Morton]</td>\n",
       "      <td>[Andrew Stanton]</td>\n",
       "    </tr>\n",
       "  </tbody>\n",
       "</table>\n",
       "</div>"
      ],
      "text/plain": [
       "   movie_id                                     title  \\\n",
       "0     19995                                    Avatar   \n",
       "1       285  Pirates of the Caribbean: At World's End   \n",
       "2    206647                                   Spectre   \n",
       "3     49026                     The Dark Knight Rises   \n",
       "4     49529                               John Carter   \n",
       "\n",
       "                                            overview  \\\n",
       "0  In the 22nd century, a paraplegic Marine is di...   \n",
       "1  Captain Barbossa, long believed to be dead, ha...   \n",
       "2  A cryptic message from Bond’s past sends him o...   \n",
       "3  Following the death of District Attorney Harve...   \n",
       "4  John Carter is a war-weary, former military ca...   \n",
       "\n",
       "                                            keywords  \\\n",
       "0  [culture clash, future, space war, space colon...   \n",
       "1  [ocean, drug abuse, exotic island, east india ...   \n",
       "2  [spy, based on novel, secret agent, sequel, mi...   \n",
       "3  [dc comics, crime fighter, terrorist, secret i...   \n",
       "4  [based on novel, mars, medallion, space travel...   \n",
       "\n",
       "                                          genres  \\\n",
       "0  [Action, Adventure, Fantasy, Science Fiction]   \n",
       "1                   [Adventure, Fantasy, Action]   \n",
       "2                     [Action, Adventure, Crime]   \n",
       "3               [Action, Crime, Drama, Thriller]   \n",
       "4           [Action, Adventure, Science Fiction]   \n",
       "\n",
       "                                               cast                 crew  \n",
       "0  [Sam Worthington, Zoe Saldana, Sigourney Weaver]      [James Cameron]  \n",
       "1     [Johnny Depp, Orlando Bloom, Keira Knightley]     [Gore Verbinski]  \n",
       "2      [Daniel Craig, Christoph Waltz, Léa Seydoux]         [Sam Mendes]  \n",
       "3      [Christian Bale, Michael Caine, Gary Oldman]  [Christopher Nolan]  \n",
       "4    [Taylor Kitsch, Lynn Collins, Samantha Morton]     [Andrew Stanton]  "
      ]
     },
     "execution_count": 28,
     "metadata": {},
     "output_type": "execute_result"
    }
   ],
   "source": [
    "movies.head()"
   ]
  },
  {
   "cell_type": "code",
   "execution_count": 29,
   "id": "1a8f226d-756d-4f66-93b4-8fe70f4f097a",
   "metadata": {},
   "outputs": [
    {
     "data": {
      "text/plain": [
       "'In the 22nd century, a paraplegic Marine is dispatched to the moon Pandora on a unique mission, but becomes torn between following orders and protecting an alien civilization.'"
      ]
     },
     "execution_count": 29,
     "metadata": {},
     "output_type": "execute_result"
    }
   ],
   "source": [
    "movies['overview'][0]"
   ]
  },
  {
   "cell_type": "code",
   "execution_count": 30,
   "id": "45e4e802-9bd6-424c-8802-3f1826375e5e",
   "metadata": {},
   "outputs": [],
   "source": [
    "movies['overview']=movies['overview'].apply(lambda x:x.split())"
   ]
  },
  {
   "cell_type": "code",
   "execution_count": 31,
   "id": "7265a042-f985-40e0-885a-2c7c58762756",
   "metadata": {},
   "outputs": [
    {
     "data": {
      "text/html": [
       "<div>\n",
       "<style scoped>\n",
       "    .dataframe tbody tr th:only-of-type {\n",
       "        vertical-align: middle;\n",
       "    }\n",
       "\n",
       "    .dataframe tbody tr th {\n",
       "        vertical-align: top;\n",
       "    }\n",
       "\n",
       "    .dataframe thead th {\n",
       "        text-align: right;\n",
       "    }\n",
       "</style>\n",
       "<table border=\"1\" class=\"dataframe\">\n",
       "  <thead>\n",
       "    <tr style=\"text-align: right;\">\n",
       "      <th></th>\n",
       "      <th>movie_id</th>\n",
       "      <th>title</th>\n",
       "      <th>overview</th>\n",
       "      <th>keywords</th>\n",
       "      <th>genres</th>\n",
       "      <th>cast</th>\n",
       "      <th>crew</th>\n",
       "    </tr>\n",
       "  </thead>\n",
       "  <tbody>\n",
       "    <tr>\n",
       "      <th>0</th>\n",
       "      <td>19995</td>\n",
       "      <td>Avatar</td>\n",
       "      <td>[In, the, 22nd, century,, a, paraplegic, Marin...</td>\n",
       "      <td>[culture clash, future, space war, space colon...</td>\n",
       "      <td>[Action, Adventure, Fantasy, Science Fiction]</td>\n",
       "      <td>[Sam Worthington, Zoe Saldana, Sigourney Weaver]</td>\n",
       "      <td>[James Cameron]</td>\n",
       "    </tr>\n",
       "    <tr>\n",
       "      <th>1</th>\n",
       "      <td>285</td>\n",
       "      <td>Pirates of the Caribbean: At World's End</td>\n",
       "      <td>[Captain, Barbossa,, long, believed, to, be, d...</td>\n",
       "      <td>[ocean, drug abuse, exotic island, east india ...</td>\n",
       "      <td>[Adventure, Fantasy, Action]</td>\n",
       "      <td>[Johnny Depp, Orlando Bloom, Keira Knightley]</td>\n",
       "      <td>[Gore Verbinski]</td>\n",
       "    </tr>\n",
       "    <tr>\n",
       "      <th>2</th>\n",
       "      <td>206647</td>\n",
       "      <td>Spectre</td>\n",
       "      <td>[A, cryptic, message, from, Bond’s, past, send...</td>\n",
       "      <td>[spy, based on novel, secret agent, sequel, mi...</td>\n",
       "      <td>[Action, Adventure, Crime]</td>\n",
       "      <td>[Daniel Craig, Christoph Waltz, Léa Seydoux]</td>\n",
       "      <td>[Sam Mendes]</td>\n",
       "    </tr>\n",
       "    <tr>\n",
       "      <th>3</th>\n",
       "      <td>49026</td>\n",
       "      <td>The Dark Knight Rises</td>\n",
       "      <td>[Following, the, death, of, District, Attorney...</td>\n",
       "      <td>[dc comics, crime fighter, terrorist, secret i...</td>\n",
       "      <td>[Action, Crime, Drama, Thriller]</td>\n",
       "      <td>[Christian Bale, Michael Caine, Gary Oldman]</td>\n",
       "      <td>[Christopher Nolan]</td>\n",
       "    </tr>\n",
       "    <tr>\n",
       "      <th>4</th>\n",
       "      <td>49529</td>\n",
       "      <td>John Carter</td>\n",
       "      <td>[John, Carter, is, a, war-weary,, former, mili...</td>\n",
       "      <td>[based on novel, mars, medallion, space travel...</td>\n",
       "      <td>[Action, Adventure, Science Fiction]</td>\n",
       "      <td>[Taylor Kitsch, Lynn Collins, Samantha Morton]</td>\n",
       "      <td>[Andrew Stanton]</td>\n",
       "    </tr>\n",
       "  </tbody>\n",
       "</table>\n",
       "</div>"
      ],
      "text/plain": [
       "   movie_id                                     title  \\\n",
       "0     19995                                    Avatar   \n",
       "1       285  Pirates of the Caribbean: At World's End   \n",
       "2    206647                                   Spectre   \n",
       "3     49026                     The Dark Knight Rises   \n",
       "4     49529                               John Carter   \n",
       "\n",
       "                                            overview  \\\n",
       "0  [In, the, 22nd, century,, a, paraplegic, Marin...   \n",
       "1  [Captain, Barbossa,, long, believed, to, be, d...   \n",
       "2  [A, cryptic, message, from, Bond’s, past, send...   \n",
       "3  [Following, the, death, of, District, Attorney...   \n",
       "4  [John, Carter, is, a, war-weary,, former, mili...   \n",
       "\n",
       "                                            keywords  \\\n",
       "0  [culture clash, future, space war, space colon...   \n",
       "1  [ocean, drug abuse, exotic island, east india ...   \n",
       "2  [spy, based on novel, secret agent, sequel, mi...   \n",
       "3  [dc comics, crime fighter, terrorist, secret i...   \n",
       "4  [based on novel, mars, medallion, space travel...   \n",
       "\n",
       "                                          genres  \\\n",
       "0  [Action, Adventure, Fantasy, Science Fiction]   \n",
       "1                   [Adventure, Fantasy, Action]   \n",
       "2                     [Action, Adventure, Crime]   \n",
       "3               [Action, Crime, Drama, Thriller]   \n",
       "4           [Action, Adventure, Science Fiction]   \n",
       "\n",
       "                                               cast                 crew  \n",
       "0  [Sam Worthington, Zoe Saldana, Sigourney Weaver]      [James Cameron]  \n",
       "1     [Johnny Depp, Orlando Bloom, Keira Knightley]     [Gore Verbinski]  \n",
       "2      [Daniel Craig, Christoph Waltz, Léa Seydoux]         [Sam Mendes]  \n",
       "3      [Christian Bale, Michael Caine, Gary Oldman]  [Christopher Nolan]  \n",
       "4    [Taylor Kitsch, Lynn Collins, Samantha Morton]     [Andrew Stanton]  "
      ]
     },
     "execution_count": 31,
     "metadata": {},
     "output_type": "execute_result"
    }
   ],
   "source": [
    "movies.head()"
   ]
  },
  {
   "cell_type": "code",
   "execution_count": 32,
   "id": "4e883cb8-c0e8-4734-83f0-e14f1101599d",
   "metadata": {},
   "outputs": [],
   "source": [
    "# Remove space from columns record \n",
    "movies['genres'] = movies['genres'].apply(lambda x:[i.replace(\" \",\"\")for i in x])\n",
    "movies['keywords']=movies['keywords'].apply(lambda x:[i.replace(\" \",\"\")for i in x])\n",
    "movies['cast']=movies['cast'].apply(lambda x:[i.replace(\" \",\"\")for i in x])\n",
    "movies['crew']=movies['crew'].apply(lambda x:[i.replace(\" \",\"\")for i in x])"
   ]
  },
  {
   "cell_type": "code",
   "execution_count": 33,
   "id": "a91b87be-d4ac-42ac-8930-3fb95af6bbd1",
   "metadata": {},
   "outputs": [
    {
     "data": {
      "text/html": [
       "<div>\n",
       "<style scoped>\n",
       "    .dataframe tbody tr th:only-of-type {\n",
       "        vertical-align: middle;\n",
       "    }\n",
       "\n",
       "    .dataframe tbody tr th {\n",
       "        vertical-align: top;\n",
       "    }\n",
       "\n",
       "    .dataframe thead th {\n",
       "        text-align: right;\n",
       "    }\n",
       "</style>\n",
       "<table border=\"1\" class=\"dataframe\">\n",
       "  <thead>\n",
       "    <tr style=\"text-align: right;\">\n",
       "      <th></th>\n",
       "      <th>movie_id</th>\n",
       "      <th>title</th>\n",
       "      <th>overview</th>\n",
       "      <th>keywords</th>\n",
       "      <th>genres</th>\n",
       "      <th>cast</th>\n",
       "      <th>crew</th>\n",
       "    </tr>\n",
       "  </thead>\n",
       "  <tbody>\n",
       "    <tr>\n",
       "      <th>0</th>\n",
       "      <td>19995</td>\n",
       "      <td>Avatar</td>\n",
       "      <td>[In, the, 22nd, century,, a, paraplegic, Marin...</td>\n",
       "      <td>[cultureclash, future, spacewar, spacecolony, ...</td>\n",
       "      <td>[Action, Adventure, Fantasy, ScienceFiction]</td>\n",
       "      <td>[SamWorthington, ZoeSaldana, SigourneyWeaver]</td>\n",
       "      <td>[JamesCameron]</td>\n",
       "    </tr>\n",
       "    <tr>\n",
       "      <th>1</th>\n",
       "      <td>285</td>\n",
       "      <td>Pirates of the Caribbean: At World's End</td>\n",
       "      <td>[Captain, Barbossa,, long, believed, to, be, d...</td>\n",
       "      <td>[ocean, drugabuse, exoticisland, eastindiatrad...</td>\n",
       "      <td>[Adventure, Fantasy, Action]</td>\n",
       "      <td>[JohnnyDepp, OrlandoBloom, KeiraKnightley]</td>\n",
       "      <td>[GoreVerbinski]</td>\n",
       "    </tr>\n",
       "    <tr>\n",
       "      <th>2</th>\n",
       "      <td>206647</td>\n",
       "      <td>Spectre</td>\n",
       "      <td>[A, cryptic, message, from, Bond’s, past, send...</td>\n",
       "      <td>[spy, basedonnovel, secretagent, sequel, mi6, ...</td>\n",
       "      <td>[Action, Adventure, Crime]</td>\n",
       "      <td>[DanielCraig, ChristophWaltz, LéaSeydoux]</td>\n",
       "      <td>[SamMendes]</td>\n",
       "    </tr>\n",
       "    <tr>\n",
       "      <th>3</th>\n",
       "      <td>49026</td>\n",
       "      <td>The Dark Knight Rises</td>\n",
       "      <td>[Following, the, death, of, District, Attorney...</td>\n",
       "      <td>[dccomics, crimefighter, terrorist, secretiden...</td>\n",
       "      <td>[Action, Crime, Drama, Thriller]</td>\n",
       "      <td>[ChristianBale, MichaelCaine, GaryOldman]</td>\n",
       "      <td>[ChristopherNolan]</td>\n",
       "    </tr>\n",
       "    <tr>\n",
       "      <th>4</th>\n",
       "      <td>49529</td>\n",
       "      <td>John Carter</td>\n",
       "      <td>[John, Carter, is, a, war-weary,, former, mili...</td>\n",
       "      <td>[basedonnovel, mars, medallion, spacetravel, p...</td>\n",
       "      <td>[Action, Adventure, ScienceFiction]</td>\n",
       "      <td>[TaylorKitsch, LynnCollins, SamanthaMorton]</td>\n",
       "      <td>[AndrewStanton]</td>\n",
       "    </tr>\n",
       "  </tbody>\n",
       "</table>\n",
       "</div>"
      ],
      "text/plain": [
       "   movie_id                                     title  \\\n",
       "0     19995                                    Avatar   \n",
       "1       285  Pirates of the Caribbean: At World's End   \n",
       "2    206647                                   Spectre   \n",
       "3     49026                     The Dark Knight Rises   \n",
       "4     49529                               John Carter   \n",
       "\n",
       "                                            overview  \\\n",
       "0  [In, the, 22nd, century,, a, paraplegic, Marin...   \n",
       "1  [Captain, Barbossa,, long, believed, to, be, d...   \n",
       "2  [A, cryptic, message, from, Bond’s, past, send...   \n",
       "3  [Following, the, death, of, District, Attorney...   \n",
       "4  [John, Carter, is, a, war-weary,, former, mili...   \n",
       "\n",
       "                                            keywords  \\\n",
       "0  [cultureclash, future, spacewar, spacecolony, ...   \n",
       "1  [ocean, drugabuse, exoticisland, eastindiatrad...   \n",
       "2  [spy, basedonnovel, secretagent, sequel, mi6, ...   \n",
       "3  [dccomics, crimefighter, terrorist, secretiden...   \n",
       "4  [basedonnovel, mars, medallion, spacetravel, p...   \n",
       "\n",
       "                                         genres  \\\n",
       "0  [Action, Adventure, Fantasy, ScienceFiction]   \n",
       "1                  [Adventure, Fantasy, Action]   \n",
       "2                    [Action, Adventure, Crime]   \n",
       "3              [Action, Crime, Drama, Thriller]   \n",
       "4           [Action, Adventure, ScienceFiction]   \n",
       "\n",
       "                                            cast                crew  \n",
       "0  [SamWorthington, ZoeSaldana, SigourneyWeaver]      [JamesCameron]  \n",
       "1     [JohnnyDepp, OrlandoBloom, KeiraKnightley]     [GoreVerbinski]  \n",
       "2      [DanielCraig, ChristophWaltz, LéaSeydoux]         [SamMendes]  \n",
       "3      [ChristianBale, MichaelCaine, GaryOldman]  [ChristopherNolan]  \n",
       "4    [TaylorKitsch, LynnCollins, SamanthaMorton]     [AndrewStanton]  "
      ]
     },
     "execution_count": 33,
     "metadata": {},
     "output_type": "execute_result"
    }
   ],
   "source": [
    "movies.head()"
   ]
  },
  {
   "cell_type": "code",
   "execution_count": 34,
   "id": "2ef7b026-a299-42ff-9c6a-ad3262a37f35",
   "metadata": {},
   "outputs": [],
   "source": [
    "# Now concat the overview, genres, keyword, cast and crew\n",
    "movies['tags'] = movies['overview']+movies['genres']+movies['keywords']+movies['cast']+movies['crew']\n"
   ]
  },
  {
   "cell_type": "code",
   "execution_count": 35,
   "id": "32c01c85-350e-436f-8750-d1d08eda492c",
   "metadata": {},
   "outputs": [
    {
     "data": {
      "text/html": [
       "<div>\n",
       "<style scoped>\n",
       "    .dataframe tbody tr th:only-of-type {\n",
       "        vertical-align: middle;\n",
       "    }\n",
       "\n",
       "    .dataframe tbody tr th {\n",
       "        vertical-align: top;\n",
       "    }\n",
       "\n",
       "    .dataframe thead th {\n",
       "        text-align: right;\n",
       "    }\n",
       "</style>\n",
       "<table border=\"1\" class=\"dataframe\">\n",
       "  <thead>\n",
       "    <tr style=\"text-align: right;\">\n",
       "      <th></th>\n",
       "      <th>movie_id</th>\n",
       "      <th>title</th>\n",
       "      <th>overview</th>\n",
       "      <th>keywords</th>\n",
       "      <th>genres</th>\n",
       "      <th>cast</th>\n",
       "      <th>crew</th>\n",
       "      <th>tags</th>\n",
       "    </tr>\n",
       "  </thead>\n",
       "  <tbody>\n",
       "    <tr>\n",
       "      <th>0</th>\n",
       "      <td>19995</td>\n",
       "      <td>Avatar</td>\n",
       "      <td>[In, the, 22nd, century,, a, paraplegic, Marin...</td>\n",
       "      <td>[cultureclash, future, spacewar, spacecolony, ...</td>\n",
       "      <td>[Action, Adventure, Fantasy, ScienceFiction]</td>\n",
       "      <td>[SamWorthington, ZoeSaldana, SigourneyWeaver]</td>\n",
       "      <td>[JamesCameron]</td>\n",
       "      <td>[In, the, 22nd, century,, a, paraplegic, Marin...</td>\n",
       "    </tr>\n",
       "    <tr>\n",
       "      <th>1</th>\n",
       "      <td>285</td>\n",
       "      <td>Pirates of the Caribbean: At World's End</td>\n",
       "      <td>[Captain, Barbossa,, long, believed, to, be, d...</td>\n",
       "      <td>[ocean, drugabuse, exoticisland, eastindiatrad...</td>\n",
       "      <td>[Adventure, Fantasy, Action]</td>\n",
       "      <td>[JohnnyDepp, OrlandoBloom, KeiraKnightley]</td>\n",
       "      <td>[GoreVerbinski]</td>\n",
       "      <td>[Captain, Barbossa,, long, believed, to, be, d...</td>\n",
       "    </tr>\n",
       "    <tr>\n",
       "      <th>2</th>\n",
       "      <td>206647</td>\n",
       "      <td>Spectre</td>\n",
       "      <td>[A, cryptic, message, from, Bond’s, past, send...</td>\n",
       "      <td>[spy, basedonnovel, secretagent, sequel, mi6, ...</td>\n",
       "      <td>[Action, Adventure, Crime]</td>\n",
       "      <td>[DanielCraig, ChristophWaltz, LéaSeydoux]</td>\n",
       "      <td>[SamMendes]</td>\n",
       "      <td>[A, cryptic, message, from, Bond’s, past, send...</td>\n",
       "    </tr>\n",
       "    <tr>\n",
       "      <th>3</th>\n",
       "      <td>49026</td>\n",
       "      <td>The Dark Knight Rises</td>\n",
       "      <td>[Following, the, death, of, District, Attorney...</td>\n",
       "      <td>[dccomics, crimefighter, terrorist, secretiden...</td>\n",
       "      <td>[Action, Crime, Drama, Thriller]</td>\n",
       "      <td>[ChristianBale, MichaelCaine, GaryOldman]</td>\n",
       "      <td>[ChristopherNolan]</td>\n",
       "      <td>[Following, the, death, of, District, Attorney...</td>\n",
       "    </tr>\n",
       "    <tr>\n",
       "      <th>4</th>\n",
       "      <td>49529</td>\n",
       "      <td>John Carter</td>\n",
       "      <td>[John, Carter, is, a, war-weary,, former, mili...</td>\n",
       "      <td>[basedonnovel, mars, medallion, spacetravel, p...</td>\n",
       "      <td>[Action, Adventure, ScienceFiction]</td>\n",
       "      <td>[TaylorKitsch, LynnCollins, SamanthaMorton]</td>\n",
       "      <td>[AndrewStanton]</td>\n",
       "      <td>[John, Carter, is, a, war-weary,, former, mili...</td>\n",
       "    </tr>\n",
       "  </tbody>\n",
       "</table>\n",
       "</div>"
      ],
      "text/plain": [
       "   movie_id                                     title  \\\n",
       "0     19995                                    Avatar   \n",
       "1       285  Pirates of the Caribbean: At World's End   \n",
       "2    206647                                   Spectre   \n",
       "3     49026                     The Dark Knight Rises   \n",
       "4     49529                               John Carter   \n",
       "\n",
       "                                            overview  \\\n",
       "0  [In, the, 22nd, century,, a, paraplegic, Marin...   \n",
       "1  [Captain, Barbossa,, long, believed, to, be, d...   \n",
       "2  [A, cryptic, message, from, Bond’s, past, send...   \n",
       "3  [Following, the, death, of, District, Attorney...   \n",
       "4  [John, Carter, is, a, war-weary,, former, mili...   \n",
       "\n",
       "                                            keywords  \\\n",
       "0  [cultureclash, future, spacewar, spacecolony, ...   \n",
       "1  [ocean, drugabuse, exoticisland, eastindiatrad...   \n",
       "2  [spy, basedonnovel, secretagent, sequel, mi6, ...   \n",
       "3  [dccomics, crimefighter, terrorist, secretiden...   \n",
       "4  [basedonnovel, mars, medallion, spacetravel, p...   \n",
       "\n",
       "                                         genres  \\\n",
       "0  [Action, Adventure, Fantasy, ScienceFiction]   \n",
       "1                  [Adventure, Fantasy, Action]   \n",
       "2                    [Action, Adventure, Crime]   \n",
       "3              [Action, Crime, Drama, Thriller]   \n",
       "4           [Action, Adventure, ScienceFiction]   \n",
       "\n",
       "                                            cast                crew  \\\n",
       "0  [SamWorthington, ZoeSaldana, SigourneyWeaver]      [JamesCameron]   \n",
       "1     [JohnnyDepp, OrlandoBloom, KeiraKnightley]     [GoreVerbinski]   \n",
       "2      [DanielCraig, ChristophWaltz, LéaSeydoux]         [SamMendes]   \n",
       "3      [ChristianBale, MichaelCaine, GaryOldman]  [ChristopherNolan]   \n",
       "4    [TaylorKitsch, LynnCollins, SamanthaMorton]     [AndrewStanton]   \n",
       "\n",
       "                                                tags  \n",
       "0  [In, the, 22nd, century,, a, paraplegic, Marin...  \n",
       "1  [Captain, Barbossa,, long, believed, to, be, d...  \n",
       "2  [A, cryptic, message, from, Bond’s, past, send...  \n",
       "3  [Following, the, death, of, District, Attorney...  \n",
       "4  [John, Carter, is, a, war-weary,, former, mili...  "
      ]
     },
     "execution_count": 35,
     "metadata": {},
     "output_type": "execute_result"
    }
   ],
   "source": [
    "movies.head()"
   ]
  },
  {
   "cell_type": "code",
   "execution_count": 36,
   "id": "7bf0b2cf-0190-4052-9d30-d234daf8bb06",
   "metadata": {},
   "outputs": [],
   "source": [
    "# now we don't need (overview\tkeywords\tgenres\tcast\tcrew)\n",
    "# so we make new dataframe\n",
    "new_df = movies[['movie_id','title','tags']]"
   ]
  },
  {
   "cell_type": "code",
   "execution_count": 37,
   "id": "04e2d3ab-f0f9-4018-a3a3-1db4345169dd",
   "metadata": {},
   "outputs": [
    {
     "data": {
      "text/html": [
       "<div>\n",
       "<style scoped>\n",
       "    .dataframe tbody tr th:only-of-type {\n",
       "        vertical-align: middle;\n",
       "    }\n",
       "\n",
       "    .dataframe tbody tr th {\n",
       "        vertical-align: top;\n",
       "    }\n",
       "\n",
       "    .dataframe thead th {\n",
       "        text-align: right;\n",
       "    }\n",
       "</style>\n",
       "<table border=\"1\" class=\"dataframe\">\n",
       "  <thead>\n",
       "    <tr style=\"text-align: right;\">\n",
       "      <th></th>\n",
       "      <th>movie_id</th>\n",
       "      <th>title</th>\n",
       "      <th>tags</th>\n",
       "    </tr>\n",
       "  </thead>\n",
       "  <tbody>\n",
       "    <tr>\n",
       "      <th>0</th>\n",
       "      <td>19995</td>\n",
       "      <td>Avatar</td>\n",
       "      <td>[In, the, 22nd, century,, a, paraplegic, Marin...</td>\n",
       "    </tr>\n",
       "    <tr>\n",
       "      <th>1</th>\n",
       "      <td>285</td>\n",
       "      <td>Pirates of the Caribbean: At World's End</td>\n",
       "      <td>[Captain, Barbossa,, long, believed, to, be, d...</td>\n",
       "    </tr>\n",
       "    <tr>\n",
       "      <th>2</th>\n",
       "      <td>206647</td>\n",
       "      <td>Spectre</td>\n",
       "      <td>[A, cryptic, message, from, Bond’s, past, send...</td>\n",
       "    </tr>\n",
       "    <tr>\n",
       "      <th>3</th>\n",
       "      <td>49026</td>\n",
       "      <td>The Dark Knight Rises</td>\n",
       "      <td>[Following, the, death, of, District, Attorney...</td>\n",
       "    </tr>\n",
       "    <tr>\n",
       "      <th>4</th>\n",
       "      <td>49529</td>\n",
       "      <td>John Carter</td>\n",
       "      <td>[John, Carter, is, a, war-weary,, former, mili...</td>\n",
       "    </tr>\n",
       "  </tbody>\n",
       "</table>\n",
       "</div>"
      ],
      "text/plain": [
       "   movie_id                                     title  \\\n",
       "0     19995                                    Avatar   \n",
       "1       285  Pirates of the Caribbean: At World's End   \n",
       "2    206647                                   Spectre   \n",
       "3     49026                     The Dark Knight Rises   \n",
       "4     49529                               John Carter   \n",
       "\n",
       "                                                tags  \n",
       "0  [In, the, 22nd, century,, a, paraplegic, Marin...  \n",
       "1  [Captain, Barbossa,, long, believed, to, be, d...  \n",
       "2  [A, cryptic, message, from, Bond’s, past, send...  \n",
       "3  [Following, the, death, of, District, Attorney...  \n",
       "4  [John, Carter, is, a, war-weary,, former, mili...  "
      ]
     },
     "execution_count": 37,
     "metadata": {},
     "output_type": "execute_result"
    }
   ],
   "source": [
    "new_df.head()"
   ]
  },
  {
   "cell_type": "code",
   "execution_count": 38,
   "id": "54aaf0d3-3601-4cbc-b3ef-da39fc9cc94b",
   "metadata": {},
   "outputs": [
    {
     "name": "stderr",
     "output_type": "stream",
     "text": [
      "C:\\Users\\ayush\\AppData\\Local\\Temp\\ipykernel_7320\\2105314408.py:2: SettingWithCopyWarning: \n",
      "A value is trying to be set on a copy of a slice from a DataFrame.\n",
      "Try using .loc[row_indexer,col_indexer] = value instead\n",
      "\n",
      "See the caveats in the documentation: https://pandas.pydata.org/pandas-docs/stable/user_guide/indexing.html#returning-a-view-versus-a-copy\n",
      "  new_df['tags']=new_df['tags'].apply(lambda x:\" \" .join(x))\n"
     ]
    }
   ],
   "source": [
    "#\n",
    "new_df['tags']=new_df['tags'].apply(lambda x:\" \" .join(x))"
   ]
  },
  {
   "cell_type": "code",
   "execution_count": 39,
   "id": "3072011a-0009-48d8-a697-f753cfec395d",
   "metadata": {},
   "outputs": [
    {
     "data": {
      "text/html": [
       "<div>\n",
       "<style scoped>\n",
       "    .dataframe tbody tr th:only-of-type {\n",
       "        vertical-align: middle;\n",
       "    }\n",
       "\n",
       "    .dataframe tbody tr th {\n",
       "        vertical-align: top;\n",
       "    }\n",
       "\n",
       "    .dataframe thead th {\n",
       "        text-align: right;\n",
       "    }\n",
       "</style>\n",
       "<table border=\"1\" class=\"dataframe\">\n",
       "  <thead>\n",
       "    <tr style=\"text-align: right;\">\n",
       "      <th></th>\n",
       "      <th>movie_id</th>\n",
       "      <th>title</th>\n",
       "      <th>tags</th>\n",
       "    </tr>\n",
       "  </thead>\n",
       "  <tbody>\n",
       "    <tr>\n",
       "      <th>0</th>\n",
       "      <td>19995</td>\n",
       "      <td>Avatar</td>\n",
       "      <td>In the 22nd century, a paraplegic Marine is di...</td>\n",
       "    </tr>\n",
       "    <tr>\n",
       "      <th>1</th>\n",
       "      <td>285</td>\n",
       "      <td>Pirates of the Caribbean: At World's End</td>\n",
       "      <td>Captain Barbossa, long believed to be dead, ha...</td>\n",
       "    </tr>\n",
       "    <tr>\n",
       "      <th>2</th>\n",
       "      <td>206647</td>\n",
       "      <td>Spectre</td>\n",
       "      <td>A cryptic message from Bond’s past sends him o...</td>\n",
       "    </tr>\n",
       "    <tr>\n",
       "      <th>3</th>\n",
       "      <td>49026</td>\n",
       "      <td>The Dark Knight Rises</td>\n",
       "      <td>Following the death of District Attorney Harve...</td>\n",
       "    </tr>\n",
       "    <tr>\n",
       "      <th>4</th>\n",
       "      <td>49529</td>\n",
       "      <td>John Carter</td>\n",
       "      <td>John Carter is a war-weary, former military ca...</td>\n",
       "    </tr>\n",
       "  </tbody>\n",
       "</table>\n",
       "</div>"
      ],
      "text/plain": [
       "   movie_id                                     title  \\\n",
       "0     19995                                    Avatar   \n",
       "1       285  Pirates of the Caribbean: At World's End   \n",
       "2    206647                                   Spectre   \n",
       "3     49026                     The Dark Knight Rises   \n",
       "4     49529                               John Carter   \n",
       "\n",
       "                                                tags  \n",
       "0  In the 22nd century, a paraplegic Marine is di...  \n",
       "1  Captain Barbossa, long believed to be dead, ha...  \n",
       "2  A cryptic message from Bond’s past sends him o...  \n",
       "3  Following the death of District Attorney Harve...  \n",
       "4  John Carter is a war-weary, former military ca...  "
      ]
     },
     "execution_count": 39,
     "metadata": {},
     "output_type": "execute_result"
    }
   ],
   "source": [
    "new_df.head()"
   ]
  },
  {
   "cell_type": "code",
   "execution_count": 40,
   "id": "7292400d-c5c8-476b-abf4-6e640a85b15d",
   "metadata": {},
   "outputs": [
    {
     "name": "stderr",
     "output_type": "stream",
     "text": [
      "C:\\Users\\ayush\\AppData\\Local\\Temp\\ipykernel_7320\\3708623870.py:2: SettingWithCopyWarning: \n",
      "A value is trying to be set on a copy of a slice from a DataFrame.\n",
      "Try using .loc[row_indexer,col_indexer] = value instead\n",
      "\n",
      "See the caveats in the documentation: https://pandas.pydata.org/pandas-docs/stable/user_guide/indexing.html#returning-a-view-versus-a-copy\n",
      "  new_df['tags'] = new_df['tags'].apply(lambda x:x.lower())\n"
     ]
    }
   ],
   "source": [
    "# Change all in lowercase\n",
    "new_df['tags'] = new_df['tags'].apply(lambda x:x.lower())"
   ]
  },
  {
   "cell_type": "code",
   "execution_count": 41,
   "id": "d4b44f17-8d3d-4c71-a105-7d1ed6d4915e",
   "metadata": {},
   "outputs": [
    {
     "data": {
      "text/html": [
       "<div>\n",
       "<style scoped>\n",
       "    .dataframe tbody tr th:only-of-type {\n",
       "        vertical-align: middle;\n",
       "    }\n",
       "\n",
       "    .dataframe tbody tr th {\n",
       "        vertical-align: top;\n",
       "    }\n",
       "\n",
       "    .dataframe thead th {\n",
       "        text-align: right;\n",
       "    }\n",
       "</style>\n",
       "<table border=\"1\" class=\"dataframe\">\n",
       "  <thead>\n",
       "    <tr style=\"text-align: right;\">\n",
       "      <th></th>\n",
       "      <th>movie_id</th>\n",
       "      <th>title</th>\n",
       "      <th>tags</th>\n",
       "    </tr>\n",
       "  </thead>\n",
       "  <tbody>\n",
       "    <tr>\n",
       "      <th>0</th>\n",
       "      <td>19995</td>\n",
       "      <td>Avatar</td>\n",
       "      <td>in the 22nd century, a paraplegic marine is di...</td>\n",
       "    </tr>\n",
       "    <tr>\n",
       "      <th>1</th>\n",
       "      <td>285</td>\n",
       "      <td>Pirates of the Caribbean: At World's End</td>\n",
       "      <td>captain barbossa, long believed to be dead, ha...</td>\n",
       "    </tr>\n",
       "    <tr>\n",
       "      <th>2</th>\n",
       "      <td>206647</td>\n",
       "      <td>Spectre</td>\n",
       "      <td>a cryptic message from bond’s past sends him o...</td>\n",
       "    </tr>\n",
       "    <tr>\n",
       "      <th>3</th>\n",
       "      <td>49026</td>\n",
       "      <td>The Dark Knight Rises</td>\n",
       "      <td>following the death of district attorney harve...</td>\n",
       "    </tr>\n",
       "    <tr>\n",
       "      <th>4</th>\n",
       "      <td>49529</td>\n",
       "      <td>John Carter</td>\n",
       "      <td>john carter is a war-weary, former military ca...</td>\n",
       "    </tr>\n",
       "  </tbody>\n",
       "</table>\n",
       "</div>"
      ],
      "text/plain": [
       "   movie_id                                     title  \\\n",
       "0     19995                                    Avatar   \n",
       "1       285  Pirates of the Caribbean: At World's End   \n",
       "2    206647                                   Spectre   \n",
       "3     49026                     The Dark Knight Rises   \n",
       "4     49529                               John Carter   \n",
       "\n",
       "                                                tags  \n",
       "0  in the 22nd century, a paraplegic marine is di...  \n",
       "1  captain barbossa, long believed to be dead, ha...  \n",
       "2  a cryptic message from bond’s past sends him o...  \n",
       "3  following the death of district attorney harve...  \n",
       "4  john carter is a war-weary, former military ca...  "
      ]
     },
     "execution_count": 41,
     "metadata": {},
     "output_type": "execute_result"
    }
   ],
   "source": [
    "new_df.head()"
   ]
  },
  {
   "cell_type": "markdown",
   "id": "04c0fc05-4a4f-41ad-8206-2d9c967685c7",
   "metadata": {},
   "source": [
    "# Vecotorization \n",
    "In machine learning, vectorization means converting data, features, or operations into vectors (arrays) so they can be processed efficiently using linear algebra operations instead of slow loops."
   ]
  },
  {
   "cell_type": "code",
   "execution_count": 42,
   "id": "d6f609fd-0a1d-4cf1-9297-b8fdf6ec2bb0",
   "metadata": {},
   "outputs": [
    {
     "data": {
      "text/plain": [
       "'in the 22nd century, a paraplegic marine is dispatched to the moon pandora on a unique mission, but becomes torn between following orders and protecting an alien civilization. action adventure fantasy sciencefiction cultureclash future spacewar spacecolony society spacetravel futuristic romance space alien tribe alienplanet cgi marine soldier battle loveaffair antiwar powerrelations mindandsoul 3d samworthington zoesaldana sigourneyweaver jamescameron'"
      ]
     },
     "execution_count": 42,
     "metadata": {},
     "output_type": "execute_result"
    }
   ],
   "source": [
    "# First movie\n",
    "new_df['tags'][0]"
   ]
  },
  {
   "cell_type": "code",
   "execution_count": 43,
   "id": "a2d27a31-b208-4414-9dd5-6a4ac0d587f3",
   "metadata": {},
   "outputs": [
    {
     "data": {
      "text/plain": [
       "\"captain barbossa, long believed to be dead, has come back to life and is headed to the edge of the earth with will turner and elizabeth swann. but nothing is quite as it seems. adventure fantasy action ocean drugabuse exoticisland eastindiatradingcompany loveofone'slife traitor shipwreck strongwoman ship alliance calypso afterlife fighter pirate swashbuckler aftercreditsstinger johnnydepp orlandobloom keiraknightley goreverbinski\""
      ]
     },
     "execution_count": 43,
     "metadata": {},
     "output_type": "execute_result"
    }
   ],
   "source": [
    "# Second Movie\n",
    "new_df['tags'][1]"
   ]
  },
  {
   "cell_type": "code",
   "execution_count": 44,
   "id": "1ecb6180-b155-4612-a133-bd5c4559b88b",
   "metadata": {},
   "outputs": [],
   "source": [
    "# Extract similer word from the text data\n",
    "from sklearn.feature_extraction.text import CountVectorizer\n",
    "cv = CountVectorizer(max_features = 5000,stop_words = 'english')"
   ]
  },
  {
   "cell_type": "code",
   "execution_count": 45,
   "id": "72a7e86c-fc20-490f-beb8-b402ac73a14d",
   "metadata": {},
   "outputs": [],
   "source": [
    "# convert in vector\n",
    "vectors = cv.fit_transform(new_df['tags']).toarray()"
   ]
  },
  {
   "cell_type": "code",
   "execution_count": 46,
   "id": "7bc4a8f1-0430-47d7-ac2e-21bf1b7a964e",
   "metadata": {},
   "outputs": [
    {
     "data": {
      "text/plain": [
       "array([0, 0, 0, ..., 0, 0, 0])"
      ]
     },
     "execution_count": 46,
     "metadata": {},
     "output_type": "execute_result"
    }
   ],
   "source": [
    "vectors[0]"
   ]
  },
  {
   "cell_type": "code",
   "execution_count": 47,
   "id": "a6e2ba49-bd9d-455f-a50b-bdc97033fc1d",
   "metadata": {},
   "outputs": [],
   "source": [
    "feat = cv.get_feature_names_out()\n"
   ]
  },
  {
   "cell_type": "code",
   "execution_count": 48,
   "id": "17cf2131-c091-4c73-b8b8-a7c27b04333d",
   "metadata": {
    "scrolled": true
   },
   "outputs": [
    {
     "name": "stdout",
     "output_type": "stream",
     "text": [
      "['000', '007', '10', '100', '11', '12', '13', '14', '15', '16', '17', '18', '18th', '18thcentury', '19', '1930s', '1940s', '1950s', '1960s', '1970s', '1980', '1980s', '1985', '1990s', '19th', '19thcentury', '20', '200', '2009', '20th', '21st', '23', '24', '25', '30', '300', '3d', '40', '50', '500', '60', '60s', '70', '70s', 'aaron', 'aaroneckhart', 'abandoned', 'abducted', 'abigailbreslin', 'abilities', 'ability', 'able', 'aboard', 'abuse', 'abusive', 'academy', 'accept', 'accepted', 'accepts', 'access', 'accident', 'accidental', 'accidentally', 'accompanied', 'accomplish', 'account', 'accountant', 'accused', 'ace', 'achieve', 'act', 'acting', 'action', 'actionhero', 'actions', 'activist', 'activities', 'activity', 'actor', 'actors', 'actress', 'acts', 'actual', 'actually', 'adam', 'adams', 'adamsandler', 'adamshankman', 'adaptation', 'adapted', 'addict', 'addicted', 'addiction', 'adolescence', 'adopt', 'adopted', 'adoption', 'adopts', 'adrienbrody', 'adult', 'adultanimation', 'adultery', 'adulthood', 'adults', 'advantage', 'adventure', 'adventures', 'advertising', 'advice', 'affair', 'affairs', 'affect', 'affection', 'affections', 'afghanistan', 'africa', 'african', 'africanamerican', 'aftercreditsstinger', 'afterlife', 'aftermath', 'age', 'aged', 'agedifference', 'agency', 'agenda', 'agent', 'agents', 'aggressive', 'aging', 'ago', 'agree', 'agrees', 'ahead', 'aid', 'aidanquinn', 'aided', 'aids', 'ailing', 'air', 'airplane', 'airplanecrash', 'airport', 'aka', 'al', 'alabama', 'alan', 'alaska', 'albert', 'alcohol', 'alcoholic', 'alcoholism', 'alecbaldwin', 'alex', 'alfredhitchcock', 'ali', 'alice', 'alien', 'alieninvasion', 'alienlife', 'alienplanet', 'aliens', 'alike', 'alive', 'allen', 'alliance', 'allied', 'allies', 'allow', 'allows', 'ally', 'alongside', 'alpacino', 'alter', 'alternate', 'alternative', 'alzheimer', 'amanda', 'amandapeet', 'amandaseyfried', 'amateur', 'amazing', 'ambassador', 'ambition', 'ambitious', 'ambulance', 'ambush', 'america', 'american', 'americanabroad', 'americanfootball', 'americans', 'amid', 'amidst', 'amnesia', 'amp', 'amsterdam', 'amusementpark', 'amy', 'amyadams', 'amysmart', 'analyst', 'anarchiccomedy', 'ancient', 'ancientrome', 'ancientworld', 'anderson', 'andiemacdowell', 'andrew', 'android', 'andy', 'andygarcía', 'angel', 'angelabassett', 'angeles', 'angelinajolie', 'angels', 'anger', 'anglee', 'angry', 'animal', 'animalattack', 'animalhorror', 'animals', 'animated', 'animation', 'anna', 'annafaris', 'anne', 'annehathaway', 'annemoss', 'annettebening', 'annie', 'anniversary', 'announces', 'annual', 'anonymity', 'answer', 'answers', 'ant', 'antarctic', 'anthology', 'anthony', 'anthonyanderson', 'anthonyhopkins', 'anthonymackie', 'anthropomorphism', 'anti', 'antics', 'antihero', 'antoinefuqua', 'antoniobanderas', 'antonyelchin', 'apart', 'apartheid', 'apartment', 'ape', 'apes', 'apocalypse', 'apocalyptic', 'apparent', 'apparently', 'appear', 'appears', 'apple', 'appointed', 'apprentice', 'approach', 'approaches', 'approaching', 'april', 'aquarium', 'arab', 'arch', 'archaeologist', 'archeology', 'archer', 'architect', 'arctic', 'area', 'aren', 'arena', 'argument', 'arise', 'aristocrat', 'armed', 'arms', 'army', 'arnold', 'arnoldschwarzenegger', 'arrangedmarriage', 'arrangement', 'arrest', 'arrested', 'arrival', 'arrive', 'arrived', 'arrives', 'arriving', 'arrogant', 'art', 'arthur', 'article', 'artificial', 'artificialintelligence', 'artist', 'artistic', 'artists', 'arts', 'ashes', 'ashley', 'ashleyjudd', 'ashtonkutcher', 'asia', 'aside', 'ask', 'asked', 'asking', 'asks', 'aspirations', 'aspiring', 'assassin', 'assassinate', 'assassination', 'assassins', 'assault', 'assigned', 'assignment', 'assistant', 'assumes', 'asteroid', 'astronaut', 'astronauts', 'asylum', 'athlete', 'atomicbomb', 'attack', 'attacked', 'attacks', 'attempt', 'attempting', 'attempts', 'attending', 'attends', 'attention', 'attitude', 'attorney', 'attracted', 'attraction', 'attractive', 'audience', 'audiences', 'audition', 'august', 'aunt', 'austin', 'australia', 'australian', 'author', 'authorities', 'authority', 'autism', 'auto', 'avenge', 'average', 'avoid', 'awaits', 'awakens', 'award', 'away', 'awry', 'ax', 'babe', 'baby', 'bachelor', 'backdrop', 'background', 'backgrounds', 'bad', 'bag', 'bahamas', 'bail', 'balance', 'ball', 'ballet', 'baltimore', 'band', 'bandits', 'bangkok', 'banished', 'bank', 'banker', 'bankrobber', 'bankrobbery', 'bar', 'barely', 'bargained', 'barn', 'barney', 'barry', 'barrylevinson', 'barrysonnenfeld', 'bars', 'base', 'baseball', 'based', 'basedoncomicbook', 'basedongraphicnovel', 'basedonnovel', 'basedonplay', 'basedonstagemusical', 'basedontrueevents', 'basedontruestory', 'basedontvseries', 'basedonvideogame', 'basedonyoungadultnovel', 'basement', 'basketball', 'batman', 'battle', 'battlefield', 'battles', 'battling', 'bay', 'beach', 'bear', 'bears', 'beast', 'beasts', 'beat', 'beating', 'beautiful', 'beautifulwoman', 'beauty', 'becky', 'becominganadult', 'bed', 'bedroom', 'bee', 'beer', 'befriends', 'began', 'begin', 'beginning', 'begins', 'behavior', 'beings', 'belief', 'beliefs', 'believe', 'believed', 'believes', 'believing', 'beloved', 'ben', 'benaffleck', 'beneath', 'benfoster', 'beniciodeltoro', 'benjamin', 'benjaminbratt', 'benkingsley', 'bennett', 'benstiller', 'bent', 'berlin', 'best', 'bestfriend', 'bet', 'beth', 'betrayal', 'betrayed', 'bettemidler', 'better', 'betty', 'beverly', 'bible', 'big', 'bigger', 'biggest', 'biker', 'bikini', 'billhader', 'billionaire', 'billmurray', 'billnighy', 'billpaxton', 'billpullman', 'billy', 'billybobthornton', 'billycrudup', 'billycrystal', 'biography', 'bird', 'birth', 'birthday', 'bisexual', 'bishop', 'bit', 'bite', 'bitter', 'bizarre', 'black', 'blackmagic', 'blackmail', 'blackpeople', 'blade', 'blame', 'blind', 'bliss', 'block', 'blonde', 'blood', 'bloodsplatter', 'bloodthirsty', 'bloody', 'blow', 'blue', 'board', 'boarding', 'boardingschool', 'boat', 'bob', 'bobby', 'bobbyfarrelly', 'bobhoskins', 'bodies', 'body', 'bodyguard', 'bold', 'bollywood', 'bomb', 'bombing', 'bond', 'bonds', 'bone', 'book', 'books', 'border', 'bored', 'boredom', 'boring', 'born', 'boss', 'boston', 'botched', 'bound', 'boundaries', 'bounty', 'bountyhunter', 'bourne', 'box', 'boxer', 'boxing', 'boy', 'boyfriend', 'boys', 'bradleycooper', 'bradpitt', 'brain', 'brand', 'brave', 'bravery', 'brazil', 'brazilian', 'break', 'breakdown', 'breaking', 'breaks', 'brendanfraser', 'brendangleeson', 'brent', 'brettratner', 'brian', 'briandepalma', 'bride', 'bridge', 'brief', 'brien', 'bright', 'brilliant', 'bring', 'bringing', 'brings', 'brink', 'britain', 'british', 'britishsecretservice', 'brittanymurphy', 'broadway', 'broke', 'broken', 'broker', 'brooklyn', 'brooks', 'brothel', 'brother', 'brotherbrotherrelationship', 'brothers', 'brothersisterrelationship', 'brought', 'brown', 'bruce', 'brucewillis', 'brutal', 'brutality', 'brutally', 'bryansinger', 'buck', 'buddies', 'buddy', 'buddycomedy', 'budget', 'build', 'building', 'built', 'bully', 'bullying', 'bumbling', 'bunny', 'burglar', 'buried', 'bus', 'bush', 'business', 'businessman', 'bust', 'busy', 'butcher', 'butler', 'butt', 'buy', 'buzz', 'cabin', 'caesar', 'cage', 'cairo', 'cal', 'california', 'called', 'calling', 'calls', 'calvin', 'camcorder', 'came', 'camera', 'cameraman', 'cameras', 'camerondiaz', 'camp', 'campaign', 'campbell', 'camping', 'campus', 'canada', 'canadian', 'cancer', 'candidate', 'candy', 'canine', 'cannibal', 'canuxploitation', 'capable', 'caper', 'capital', 'capitalism', 'capt', 'captain', 'captive', 'capture', 'captured', 'captures', 'car', 'caraccident', 'carchase', 'carcrash', 'card', 'care', 'career', 'carefree', 'cares', 'caretaker', 'careymulligan', 'caribbean', 'carjourney', 'carl', 'carlagugino', 'carmen', 'carol', 'carolina', 'carrace', 'carrie', 'carry', 'carrying', 'cars', 'cartel', 'carter', 'cartoon', 'caryelwes', 'case', 'caseyaffleck', 'cash', 'casino', 'cast', 'castle', 'cat', 'cataclysm', 'catastrophe', 'catch', 'catches', 'cateblanchett', 'catherinekeener', 'catherinezeta', 'catholic', 'catholicism', 'cattle', 'caught', 'cause', 'caused', 'causes', 'causing', 'cavalry', 'cave', 'celebrate', 'celebrated', 'celebration', 'celebrity', 'cellphone', 'cemetery', 'center', 'centered', 'centers', 'central', 'centuries', 'century', 'ceremony', 'certain', 'chain', 'chainsaw', 'challenge', 'challenged', 'challenges', 'champion', 'championship', 'chance', 'change', 'changed', 'changes', 'changing', 'channingtatum', 'chaos', 'chaotic', 'chapter', 'character', 'characters', 'charge', 'charged', 'charismatic', 'charles', 'charlie', 'charliesheen', 'charlizetheron', 'charlotte', 'charm', 'charming', 'chase', 'chased', 'chauffeur', 'cheating', 'cheerleader', 'chef', 'chemical', 'cher', 'chicago', 'chicken', 'chief', 'child', 'childabuse', 'childhero', 'childhood', 'children', 'chilling', 'china', 'chinese', 'chip', 'chiwetelejiofor', 'chloe', 'chloëgracemoretz', 'chloësevigny', 'chocolate', 'choice', 'choices', 'choose', 'chosen', 'chowyun', 'chris', 'chriscolumbus', 'chriscooper', 'chrisevans', 'chrishemsworth', 'chrisklein', 'chrispine', 'chrisrock', 'christ', 'christian', 'christianbale', 'christianity', 'christianslater', 'christinaapplegate', 'christinaricci', 'christine', 'christmas', 'christmasparty', 'christopher', 'christopherlloyd', 'christophernolan', 'christopherplummer', 'christopherwalken', 'christophwaltz', 'chronicle', 'chronicles', 'chuck', 'church', 'cia', 'cigarettesmoking', 'cillianmurphy', 'cinema', 'circle', 'circuit', 'circumstances', 'circus', 'cities', 'citizens', 'city', 'civil', 'civilization', 'civilwar', 'claim', 'claims', 'claire', 'clairedanes', 'clan', 'clark', 'clash', 'class', 'classes', 'classic', 'classmate', 'classmates', 'classroom', 'claudevandamme', 'clay', 'clean', 'clear', 'clerk', 'client', 'clients', 'climate', 'climbing', 'clinteastwood', 'clique', 'cliveowen', 'clock', 'clone', 'cloning', 'close', 'closed', 'closer', 'club', 'clubs', 'clues', 'clutches', 'coach', 'coast', 'cocaine', 'code', 'cody', 'coffin', 'cohen', 'col', 'cold', 'coldwar', 'cole', 'colin', 'colinfarrell', 'colinfirth', 'collapse', 'colleague', 'colleagues', 'collect', 'collection', 'collector', 'college', 'collide', 'collins', 'collision', 'colonel', 'colony', 'color', 'colorado', 'colorful', 'coma', 'combat', 'combined', 'come', 'comeback', 'comedian', 'comedic', 'comedy', 'comes', 'comet', 'comfort', 'comic', 'comics', 'coming', 'comingofage', 'comingout', 'command', 'commander', 'commercial', 'commit', 'commitment', 'committed', 'common', 'communication', 'community', 'companion', 'company', 'compete', 'competing', 'competition', 'complete', 'completely', 'complex', 'complicated', 'complications', 'composer', 'computer', 'computervirus', 'conan', 'concert', 'conclusion', 'condition', 'conditions', 'confederate', 'confession', 'confidence', 'confident', 'conflict', 'confront', 'confronted', 'confronts', 'confused', 'congress', 'conman', 'connected', 'connecticut', 'connection', 'connections', 'connects', 'connell', 'connie', 'connor', 'conquer', 'conscience', 'consequences', 'conservative', 'considered', 'conspiracy', 'conspire', 'constant', 'constantly', 'construction', 'consumed', 'contact', 'contain', 'contemporary', 'contend', 'contest', 'continue', 'continues', 'continuing', 'contract', 'control', 'controlled', 'controlling', 'controversial', 'convention', 'converge', 'convict', 'convicted', 'convince', 'convinced', 'convinces', 'cook', 'cooking', 'cool', 'cooper', 'cop', 'cope', 'cops', 'core', 'corner', 'corners', 'corporate', 'corporation', 'corpse', 'corrupt', 'corruption', 'cost', 'costume', 'couldn', 'count', 'country', 'countrymusic', 'countryside', 'county', 'coup', 'couple', 'couples', 'courage', 'courageous', 'course', 'court', 'courtcase', 'courteneycox', 'courtroom', 'cousin', 'cover', 'covert', 'cow', 'cowardliness', 'cowboy', 'crab', 'crack', 'craig', 'crash', 'crashes', 'crazy', 'create', 'created', 'creates', 'creation', 'creator', 'creature', 'creatures', 'credit', 'creepy', 'crew', 'crime', 'crimefighter', 'crimes', 'criminal', 'criminals', 'crisis', 'critical', 'crocodile', 'crook', 'crooked', 'cross', 'crossdressing', 'crossed', 'crosses', 'crown', 'crucifixion', 'cruel', 'cruelty', 'cruise', 'crush', 'crystal', 'cuba', 'cubagoodingjr', 'cult', 'cultfilm', 'cultural', 'culture', 'cultureclash', 'cunning', 'cup', 'cure', 'curious', 'current', 'curse', 'cursed', 'custody', 'customers', 'cut', 'cyberpunk', 'cyborg', 'dad', 'daily', 'dakotafanning', 'damage', 'dan', 'danaykroyd', 'dance', 'dancer', 'dancing', 'danger', 'dangerous', 'dangers', 'daniel', 'danielcraig', 'danielday', 'danielradcliffe', 'danny', 'dannyboyle', 'dannydevito', 'dannyglover', 'dare', 'daring', 'dark', 'darkcomedy', 'darkest', 'darkness', 'date', 'dates', 'dating', 'daughter', 'daughters', 'dave', 'david', 'davidarquette', 'davidduchovny', 'davidfincher', 'davidgordongreen', 'davidmorse', 'davido', 'davis', 'daxshepard', 'day', 'days', 'dc', 'dccomics', 'dea', 'dead', 'deadly', 'deaf', 'deal', 'dealer', 'dealers', 'dealing', 'deals', 'dean', 'death', 'deathofafriend', 'deathpenalty', 'deaths', 'debt', 'debut', 'decade', 'decades', 'decapitation', 'deceased', 'deceit', 'deception', 'decide', 'decided', 'decides', 'decision', 'decisions', 'dedicated', 'deeds', 'deep', 'deeper', 'deeply', 'defeat', 'defend', 'defense', 'deliver', 'delivers', 'delusion', 'demanding', 'demands', 'demimoore', 'demon', 'demonic', 'demonicpossession', 'demons', 'dennisdugan', 'dennishopper', 'dennisquaid', 'dentist', 'denzelwashington', 'department', 'depressed', 'depression', 'deputy', 'deranged', 'derek', 'descend', 'desert', 'deserted', 'designed', 'desire', 'desires', 'desolate', 'despair', 'desperate', 'desperately', 'desperation', 'despite', 'destined', 'destiny', 'destroy', 'destroyed', 'destroying', 'destruction', 'details', 'detective', 'detectives', 'determination', 'determine', 'determined', 'detroit', 'devastating', 'develop', 'developed', 'develops', 'device', 'devil', 'devoted', 'diabolical', 'dialogue', 'diamond', 'diane', 'dianekeaton', 'dianekruger', 'dianelane', 'diary', 'dick', 'dictator', 'did', 'didn', 'die', 'died', 'diego', 'dies', 'differences', 'different', 'difficult', 'digging', 'dignity', 'diner', 'dinner', 'dinosaur', 'dinosaurs', 'dire', 'directed', 'direction', 'director', 'dirt', 'dirty', 'dirtycop', 'disabled', 'disappear', 'disappearance', 'disappeared', 'disappears', 'disaster', 'disastrous', 'discover', 'discovered', 'discovering', 'discovers', 'discovery', 'disease', 'disfigurement', 'disgraced', 'disguise', 'dishonesty', 'disillusioned', 'disney', 'disorder', 'dispatched', 'distant', 'district', 'distrust', 'disturbed', 'disturbing', 'diva', 'divided', 'division', 'divorce', 'divorced', 'dj', 'dna', 'doc', 'doctor', 'document', 'documentary', 'documents', 'does', 'doesn', 'dog', 'dogs', 'doing', 'doll', 'dollar', 'dollars', 'dolphin', 'dolphlundgren', 'domination', 'don', 'donaldpetrie', 'donaldsutherland', 'doncheadle', 'donnell', 'doomed', 'doomsday', 'door', 'doorstep', 'doppelganger', 'dorothy', 'double', 'doublelife', 'doubt', 'doubts', 'doug', 'douglas', 'dougliman', 'dr', 'dracula', 'drag', 'dragon', 'drama', 'dramatic', 'draw', 'drawing', 'drawn', 'draws', 'dream', 'dreams', 'drew', 'drewbarrymore', 'drifter', 'drink', 'drinking', 'drive', 'driven', 'driver', 'drives', 'driving', 'drop', 'drowning', 'drug', 'drugabuse', 'drugaddiction', 'drugdealer', 'druglord', 'drugs', 'drugtraffic', 'drunk', 'drunken', 'du', 'dualidentity', 'dude', 'duel', 'duke', 'dumped', 'duo', 'duringcreditsstinger', 'dustinhoffman', 'dutch', 'duty', 'dwarves', 'dwaynejohnson', 'dying', 'dyinganddeath', 'dylan', 'dynamic', 'dynasty', 'dysfunctional', 'dysfunctionalfamily', 'dystopia', 'dystopicfuture', 'eager', 'earlier', 'early', 'earn', 'earth', 'earthquake', 'east', 'easy', 'eating', 'eccentric', 'economic', 'economy', 'eddie', 'eddiegriffin', 'eddiemurphy', 'edge', 'edharris', 'editor', 'education', 'edward', 'edwardburns', 'edwardnorton', 'effort', 'efforts', 'egg', 'ego', 'egypt', 'egyptian', 'el', 'elaborate', 'elderly', 'election', 'elements', 'eliaskoteas', 'elijahwood', 'eliminate', 'elisabethshue', 'elite', 'elizabeth', 'elizabethbanks', 'ella', 'ellenburstyn', 'ellenpage', 'ellie', 'elliot', 'ellis', 'elusive', 'elves', 'elvis', 'embark', 'embarking', 'embarks', 'embassy', 'embroiled', 'emerge', 'emergency', 'emerges', 'emilehirsch', 'emily', 'emilyblunt', 'emilymortimer', 'emilywatson', 'emma', 'emmastone', 'emmathompson', 'emmawatson', 'emotional', 'emotionally', 'emotions', 'emperor', 'empire', 'employee', 'employees', 'employer', 'employs', 'encounter', 'encounters', 'end', 'ended', 'ending', 'endless', 'endoftheworld', 'ends', 'enemies', 'enemy', 'energy', 'enforcement', 'engaged', 'engagement', 'engineer', 'england', 'english', 'enigmatic', 'enjoy', 'enlist', 'enlists', 'enormous', 'ensemblecast', 'ensues', 'entangled', 'enter', 'enterprise', 'enters', 'entertainer', 'entertaining', 'entire', 'entirely', 'entity', 'environment', 'environmental', 'epic', 'epidemic', 'era', 'eric', 'ericbana', 'erin', 'ernest', 'eroticism', 'erupts', 'escapade', 'escape', 'escaped', 'escapefromprison', 'escapes', 'escaping', 'escort', 'especially', 'espionage', 'establishment', 'estate', 'estranged', 'eternal', 'ethan', 'ethanhawke', 'eugenelevy', 'europe', 'european', 'eva', 'evacuation', 'evade', 'evamendes', 'evanrachelwood', 'eve', 'evening', 'event', 'events', 'eventually', 'everybody', 'everyday', 'evidence', 'evil', 'evolution', 'ewanmcgregor', 'ex', 'exact', 'exactly', 'examines', 'exchange', 'exciting', 'exclusive', 'execution', 'executive', 'exercise', 'exist', 'existed', 'existence', 'existentialism', 'exists', 'exorcism', 'exotic', 'exoticisland', 'expectations', 'expected', 'expects', 'expedition', 'experience', 'experienced', 'experiences', 'experiencing', 'experiment', 'expert', 'explorers', 'explores', 'exploring', 'explosion', 'explosive', 'expose', 'exposed', 'exposes', 'extra', 'extramaritalaffair', 'extraordinary', 'extraterrestrial', 'extraterrestrialtechnology', 'extreme', 'extremely', 'extremeviolence', 'eye', 'eyes', 'face', 'faced', 'faces', 'facility', 'facing', 'fact', 'factions', 'factory', 'fail', 'failed', 'failing', 'fails', 'fairy', 'fairytale', 'faith', 'fake', 'fall', 'fallen', 'falling', 'fallinginlove', 'falls', 'falseidentity', 'falselyaccused', 'fame', 'famed', 'families', 'family', 'familyrelationships', 'famkejanssen', 'famous', 'fan', 'fangvamp', 'fans', 'fantasies', 'fantastic', 'fantasy', 'fantasyworld', 'far', 'farewell', 'farm', 'farmer', 'farmhouse', 'fascinated', 'fashion', 'fast', 'faster', 'fat', 'fatal', 'fate', 'fateful', 'father', 'fatherdaughterrelationship', 'fathersonrelationship', 'favorite', 'fbi', 'fbiagent', 'fear', 'fears', 'fearsome', 'feature', 'features', 'featuring', 'federation', 'feel', 'feeling', 'feelings', 'feels', 'feet', 'fellow', 'female', 'femalefriendship', 'femalenudity', 'femaleprotagonist', 'festival', 'feud', 'fi', 'fiancee', 'fiancé', 'fiancée', 'fiction', 'fictional', 'fictionalplace', 'field', 'fields', 'fierce', 'fifth', 'fight', 'fighter', 'fighters', 'fighting', 'fights', 'figure', 'figures', 'filled', 'film', 'filmdirector', 'filmed', 'filming', 'filmmaker', 'filmmakers', 'filmmaking', 'filmproducer', 'films', 'final', 'finale', 'finally', 'financial', 'finding', 'finds', 'fine', 'finish', 'finn', 'fired', 'firm', 'fish', 'fisherman', 'fishing', 'fishoutofwater', 'fistfight', 'fit', 'fix', 'flame', 'flashback', 'flee', 'flees', 'flesh', 'flight', 'fling', 'flint', 'flirt', 'flood', 'florida', 'flower', 'fly', 'flying', 'flyingsaucer', 'focus', 'focuses', 'foil', 'follow', 'followed', 'following', 'follows', 'food', 'foot', 'footage', 'football', 'footchase', 'forbidden', 'forbiddenlove', 'force', 'forced', 'forces', 'forcing', 'ford', 'foreign', 'forest', 'forestwhitaker', 'forever', 'forget', 'forgiveness', 'form', 'formidable', 'forms', 'formula', 'fort', 'fortune', 'fortuneteller', 'forward', 'foster', 'fought', 'foundfootage', 'fourth', 'fox', 'framed', 'france', 'franchise', 'francis', 'francisco', 'francisfordcoppola', 'frank', 'frankenstein', 'frankie', 'frankoz', 'fraternity', 'fraud', 'freak', 'fred', 'freddieprinzejr', 'freddy', 'free', 'freed', 'freedom', 'freeman', 'freeze', 'french', 'fresh', 'freshman', 'friend', 'friendly', 'friends', 'friendship', 'frightening', 'frog', 'fromragstoriches', 'frontier', 'frozen', 'frustrated', 'fu', 'fueled', 'fugitive', 'fulfill', 'fully', 'fun', 'fund', 'funeral', 'funny', 'furious', 'future', 'futuristic', 'fword', 'gabrielbyrne', 'gaelgarcíabernal', 'gain', 'galaxy', 'gambler', 'gambling', 'game', 'games', 'gandhi', 'gang', 'gangs', 'gangster', 'gangsterboss', 'gangsters', 'gangwar', 'garage', 'garden', 'garfield', 'garrymarshall', 'gary', 'garygray', 'garyoldman', 'garysinise', 'gas', 'gasstation', 'gather', 'gave', 'gay', 'gayinterest', 'gayrelationship', 'genehackman', 'general', 'generation', 'generations', 'genetic', 'genetically', 'genetics', 'genius', 'genocide', 'gentle', 'geoffreyrush', 'george', 'georgeclooney', 'georgia', 'gerardbutler', 'german', 'germans', 'germany', 'getaway', 'gets', 'getting', 'ghetto', 'ghost', 'ghosts', 'giant', 'giants', 'gift', 'gifted', 'gig', 'girl', 'girlfriend', 'girlfriends', 'girls', 'given', 'gives', 'giving', 'gladiator', 'glamorous', 'glass', 'global', 'globe', 'glory', 'goal', 'god', 'gods', 'goes', 'going', 'gold', 'golden', 'golf', 'gone', 'good', 'goodvsevil', 'gordon', 'gore', 'gorgeous', 'gorilla', 'gossip', 'got', 'gotham', 'gothamcity', 'government', 'governor', 'grace', 'grade', 'gradually', 'graduate', 'graduation', 'grand', 'grandfather', 'grandmother', 'grant', 'grave', 'great', 'greater', 'greatest', 'greece', 'greed', 'greedy', 'greek', 'green', 'greg', 'gregkinnear', 'gregorypeck', 'grew', 'grief', 'grieving', 'griffin', 'grim', 'grisly', 'gritty', 'ground', 'group', 'groupoffriends', 'grow', 'growing', 'growingup', 'grown', 'grows', 'gruesome', 'guard', 'guardian', 'guerrilla', 'guest', 'guests', 'guide', 'guilt', 'guilty', 'guitar', 'gun', 'gunfight', 'gunman', 'guns', 'gunslinger', 'guru', 'gusvansant', 'guy', 'guypearce', 'guys', 'gwynethpaltrow', 'hacker', 'hair', 'half', 'hall', 'halleberry', 'halloween', 'hallucination', 'hand', 'handed', 'hands', 'handsome', 'handtohandcombat', 'hang', 'hanging', 'hangs', 'hannah', 'happen', 'happened', 'happening', 'happens', 'happily', 'happiness', 'happy', 'hara', 'harbor', 'hard', 'harlem', 'harmony', 'harold', 'haroldramis', 'harrisonford', 'harry', 'harsh', 'hart', 'harvard', 'harvey', 'harveykeitel', 'hasn', 'hatches', 'hate', 'hatred', 'haunt', 'haunted', 'hauntedhouse', 'haunting', 'haven', 'having', 'havoc', 'hawaii', 'haydenchristensen', 'head', 'headed', 'heading', 'headquarters', 'heads', 'healing', 'health', 'hear', 'heard', 'hearing', 'hears', 'heart', 'heartattack', 'heartbreak', 'hearted', 'hearts', 'heather', 'heathergraham', 'heathledger', 'heaven', 'heavily', 'heavy', 'heavymetal', 'heir', 'heiress', 'heist', 'held', 'helen', 'helenabonhamcarter', 'helenhunt', 'helenmirren', 'helicopter', 'hell', 'help', 'helped', 'helping', 'helps', 'henchmen', 'henry', 'hero', 'heroes', 'heroic', 'heroin', 'heroism', 'hidden', 'hiddencamera', 'hide', 'hides', 'hiding', 'high', 'higher', 'highest', 'highlands', 'highly', 'highschool', 'highschoolsports', 'highschoolstudent', 'highway', 'hijack', 'hijacking', 'hilarious', 'hilaryduff', 'hilaryswank', 'hill', 'hills', 'himalaya', 'hip', 'hippie', 'hire', 'hired', 'hires', 'historic', 'historical', 'historicalfigure', 'history', 'hit', 'hitchhiker', 'hitman', 'hits', 'ho', 'hobbit', 'hockey', 'hold', 'holding', 'holds', 'hole', 'holiday', 'holly', 'hollywood', 'holmes', 'holy', 'home', 'homeinvasion', 'homeland', 'homeless', 'homelessperson', 'homes', 'hometown', 'homicidal', 'homicide', 'homophobia', 'homosexuality', 'honey', 'honeymoon', 'hong', 'hongkong', 'honor', 'hood', 'hoodlum', 'hook', 'hop', 'hope', 'hopedavis', 'hopelessly', 'hopes', 'hoping', 'hopper', 'horrible', 'horrific', 'horrifying', 'horror', 'horrors', 'horse', 'horsebackriding', 'horserace', 'hospital', 'host', 'hostage', 'hostile', 'hostility', 'hot', 'hotel', 'hotelroom', 'hotshot', 'hour', 'hours', 'house', 'household', 'housekeeper', 'housewife', 'housing', 'howard', 'huge', 'hughgrant', 'hughjackman', 'human', 'humananimalrelationship', 'humanity', 'humankind', 'humans', 'humiliation', 'humor', 'hundreds', 'hunger', 'hungry', 'hunt', 'hunted', 'hunter', 'hunters', 'hunting', 'hurricane', 'husband', 'hustler', 'hypnosis', 'hyun', 'ianmckellen', 'ice', 'icecube', 'iconic', 'idea', 'idealistic', 'identities', 'identity', 'idol', 'idyllic', 'ignoring', 'ii', 'iii', 'il', 'ill', 'illegal', 'illegalimmigration', 'illegalprostitution', 'illness', 'image', 'imaginary', 'imagination', 'imagined', 'imax', 'immediately', 'immigrant', 'immigrants', 'immigration', 'immortal', 'immortality', 'impact', 'imperial', 'important', 'impossible', 'imprisoned', 'imprisonment', 'inadvertently', 'incest', 'incident', 'include', 'includes', 'including', 'increasingly', 'incredible', 'independence', 'independent', 'independentfilm', 'india', 'indian', 'indiana', 'indianlead', 'indians', 'individual', 'industry', 'infamous', 'infant', 'infected', 'infection', 'infidelity', 'infiltrate', 'influence', 'informant', 'information', 'inhabitants', 'inheritance', 'inherits', 'initially', 'injured', 'injury', 'inmates', 'inner', 'innocence', 'innocent', 'insane', 'insanity', 'inside', 'insists', 'insomnia', 'inspector', 'inspiration', 'inspire', 'inspired', 'inspires', 'inspiring', 'installment', 'instant', 'instantly', 'instead', 'institution', 'instructor', 'insurance', 'intelligence', 'intelligent', 'intends', 'intense', 'intent', 'intentions', 'intergalactic', 'international', 'internet', 'interrogation', 'interspeciesromance', 'intertwine', 'interview', 'interviews', 'intimate', 'intrigue', 'introduces', 'invaders', 'invading', 'invasion', 'invention', 'inventor', 'investigate', 'investigates', 'investigating', 'investigation', 'investigator', 'investment', 'invisible', 'invites', 'involved', 'involves', 'involving', 'iowa', 'ira', 'iran', 'iranian', 'iraq', 'ireland', 'irish', 'island', 'isn', 'isolated', 'isolation', 'israel', 'israeli', 'issues', 'italian', 'italy', 'ivanreitman', 'jack', 'jackblack', 'jackie', 'jackiechan', 'jacknicholson', 'jackson', 'jadapinkettsmith', 'jail', 'jake', 'jakegyllenhaal', 'james', 'jamescaan', 'jamescameron', 'jamesfranco', 'jamesivory', 'jamesmangold', 'jamesmarsden', 'jamesmcavoy', 'jameswan', 'jameswoods', 'jamie', 'jamiefoxx', 'jamieleecurtis', 'jane', 'janitor', 'japan', 'japanese', 'jaredleto', 'jason', 'jasonbateman', 'jasonbiggs', 'jasonlee', 'jasonschwartzman', 'jasonsegel', 'jasonstatham', 'javierbardem', 'jay', 'jaychandrasekhar', 'jayroach', 'jazz', 'jealous', 'jealousy', 'jean', 'jeanreno', 'jedi', 'jeff', 'jeffbridges', 'jeffdaniels', 'jeffgoldblum', 'jeffreywright', 'jennifer', 'jenniferaniston', 'jenniferconnelly', 'jennifergarner', 'jenniferjasonleigh', 'jenniferlawrence', 'jenniferlopez', 'jenniferlovehewitt', 'jeremyirons', 'jerry', 'jersey', 'jerusalem', 'jess', 'jesse', 'jessebradford', 'jesseeisenberg', 'jessica', 'jessicaalba', 'jessicabiel', 'jessicachastain', 'jesus', 'jesuschrist', 'jetli', 'jew', 'jewel', 'jewish', 'jigsaw', 'jill', 'jim', 'jimbroadbent', 'jimcarrey', 'jimcaviezel', 'jimmy', 'jin', 'joanallen', 'joancusack', 'joaquinphoenix', 'job', 'jobs', 'jodiefoster', 'joe', 'joel', 'joelcoen', 'joelschumacher', 'joepesci', 'joey', 'john', 'johnc', 'johncarpenter', 'johncusack', 'johngoodman', 'johnhurt', 'johnleguizamo', 'johnmalkovich', 'johnmctiernan', 'johnny', 'johnnydepp', 'johnson', 'johntravolta', 'johnturturro', 'join', 'joined', 'joining', 'joins', 'jon', 'jonahhill', 'jonathan', 'jonathanfrakes', 'jonathanrhysmeyers', 'jones', 'jonfavreau', 'jonvoight', 'jordan', 'joseph', 'josephgordon', 'josh', 'joshbrolin', 'joshhartnett', 'joshhutcherson', 'journalism', 'journalist', 'journey', 'journeys', 'joy', 'jr', 'juan', 'judelaw', 'judge', 'judidench', 'julia', 'julian', 'juliannemoore', 'juliaroberts', 'juliastiles', 'julie', 'july', 'jump', 'jumps', 'jungle', 'junior', 'junkie', 'just', 'justice', 'justinlong', 'justintimberlake', 'kansas', 'karate', 'karen', 'karlurban', 'kat', 'kate', 'katebeckinsale', 'katebosworth', 'katehudson', 'katemara', 'katewinslet', 'katherine', 'katherineheigl', 'kathy', 'kathybates', 'katie', 'katieholmes', 'katniss', 'katy', 'kay', 'keanureeves', 'keeping', 'keeps', 'keiraknightley', 'kelly', 'ken', 'kennedy', 'kennethbranagh', 'kermit', 'kevin', 'kevinbacon', 'kevincostner', 'kevinhart', 'kevinjames', 'kevinkline', 'kevinsmith', 'kevinspacey', 'key', 'kgb', 'khan', 'kid', 'kidnap', 'kidnapped', 'kidnappers', 'kidnapping', 'kidnaps', 'kids', 'kidsandfamily', 'kiefersutherland', 'kill', 'killed', 'killer', 'killerrobot', 'killers', 'killing', 'kills', 'kim', 'kimbasinger', 'kind', 'king', 'kingdom', 'kingpin', 'kirk', 'kirstendunst', 'kiss', 'kit', 'kitchen', 'knew', 'knife', 'knight', 'know', 'knowing', 'knowledge', 'known', 'knows', 'kong', 'korea', 'korean', 'kriskristofferson', 'kristenbell', 'kristenstewart', 'kristenwiig', 'krueger', 'kung', 'kungfu', 'kurt', 'kurtrussell', 'kyle', 'la', 'lab', 'labor', 'laboratory', 'laced', 'ladies', 'lady', 'ladykiller', 'laid', 'lake', 'land', 'landing', 'lands', 'landscape', 'lane', 'language', 'lapd', 'large', 'larger', 'largest', 'larry', 'las', 'lasergun', 'lassehallström', 'lasvegas', 'late', 'later', 'latest', 'launch', 'launched', 'launches', 'laura', 'lauralinney', 'laurencefishburne', 'lavish', 'law', 'lawman', 'lawrence', 'laws', 'lawyer', 'laxative', 'lazy', 'lead', 'leader', 'leaders', 'leading', 'leads', 'league', 'learn', 'learning', 'learns', 'leave', 'leaves', 'leaving', 'led', 'lee', 'left', 'legacy', 'legal', 'legend', 'legendary', 'legends', 'lenaheadey', 'leo', 'leon', 'leonardnimoy', 'leonardodicaprio', 'lesbian', 'lesbianrelationship', 'lesliemann', 'lesson', 'lessons', 'let', 'lethal', 'letter', 'letters', 'level', 'levitt', 'lewis', 'lgbt', 'liamneeson', 'liar', 'liberation', 'lie', 'lies', 'lieutenant', 'life', 'lifeanddeath', 'lifelong', 'lifestyle', 'lifetime', 'light', 'lightning', 'lights', 'like', 'likes', 'lily', 'limits', 'lincoln', 'linda', 'lindsaylohan', 'line', 'lines', 'link', 'lion', 'lisa', 'list', 'literature', 'little', 'littleboy', 'live', 'lived', 'lives', 'living', 'll', 'loan', 'local', 'locals', 'location', 'locked', 'loganlerman', 'lola', 'london', 'londonengland', 'lone', 'loneliness', 'lonely', 'loner', 'long', 'longer', 'longtime', 'look', 'looking', 'looks', 'loop', 'loose', 'loosely', 'lord', 'los', 'losangeles', 'lose', 'loser', 'loses', 'losing', 'loss', 'lossofbrother', 'lossofchild', 'lossoffamily', 'lossoffather', 'lossofhusband', 'lossoflover', 'lossofmother', 'lossofparents', 'lossofson', 'lost', 'lot', 'lottery', 'lou', 'louis', 'louisiana', 'lounge', 'lovable', 'love', 'loveatfirstsight', 'loved', 'loveless', 'loveletter', 'loveofone', 'lover', 'lovers', 'loves', 'lovesickness', 'lovetriangle', 'loving', 'low', 'loyal', 'loyalty', 'lt', 'lucas', 'luck', 'lucky', 'lucy', 'lucyliu', 'luke', 'lukewilson', 'lure', 'lured', 'lust', 'luxury', 'lying', 'ma', 'machine', 'machinegun', 'macy', 'mad', 'madea', 'madness', 'mafia', 'magazine', 'maggie', 'magic', 'magical', 'magician', 'maid', 'main', 'maine', 'maintain', 'major', 'make', 'makes', 'making', 'malcolm', 'male', 'malefemalerelationship', 'malefriendship', 'malenudity', 'mall', 'man', 'manager', 'manages', 'mandymoore', 'manhattan', 'manhunt', 'maniac', 'manipulation', 'mankind', 'mannered', 'mansion', 'manvsmachine', 'map', 'marcforster', 'march', 'marcus', 'maria', 'mariabello', 'marie', 'marijuana', 'marine', 'marisatomei', 'mark', 'marked', 'market', 'markruffalo', 'markwahlberg', 'marlonbrando', 'marlonwayans', 'marriage', 'marriagecrisis', 'marriageproposal', 'married', 'marriedcouple', 'marries', 'marry', 'marrying', 'mars', 'marshal', 'marshall', 'martha', 'martial', 'martialarts', 'martin', 'martincampbell', 'martinlawrence', 'martinscorsese', 'marty', 'marvelcinematicuniverse', 'marvelcomic', 'mary', 'mask', 'masked', 'mass', 'massacre', 'massive', 'massmurder', 'master', 'mastermind', 'masters', 'masturbation', 'match', 'mates', 'mathematician', 'mathematics', 'matrix', 'matt', 'mattdamon', 'mattdillon', 'matter', 'matters', 'matthew', 'matthewbroderick', 'matthewmcconaughey', 'maurice', 'max', 'maya', 'maybe', 'mayhem', 'mayor', 'maze', 'mccall', 'mcclane', 'mcphee', 'mean', 'meaning', 'means', 'media', 'medical', 'medication', 'medicine', 'medieval', 'meet', 'meeting', 'meets', 'mega', 'megryan', 'melbrooks', 'melgibson', 'melvin', 'member', 'members', 'memories', 'memory', 'men', 'menace', 'mental', 'mentally', 'mentor', 'mephisto', 'mercenaries', 'mercenary', 'mere', 'mermaid', 'merylstreep', 'message', 'messages', 'met', 'metal', 'meteor', 'methods', 'mexican', 'mexicanstandoff', 'mexico', 'mia', 'miami', 'michael', 'michaelangarano', 'michaelbay', 'michaelcaine', 'michaeldouglas', 'michaelfassbender', 'michaelj', 'michaelkeaton', 'michaelmoore', 'michaelshannon', 'michaelsheen', 'michellemonaghan', 'michellepfeiffer', 'michellerodriguez', 'michigan', 'mickey', 'mickeyrourke', 'mid', 'middle', 'middleages', 'middleeast', 'midlifecrisis', 'midnight', 'midst', 'midwest', 'mighty', 'mike', 'mikemyers', 'mikenewell', 'milakunis', 'mild', 'miles', 'military', 'millajovovich', 'miller', 'million', 'millionaire', 'millions', 'mills', 'milo', 'mind', 'mindcontrol', 'minds', 'miner', 'mining', 'minions', 'minister', 'minnesota', 'minniedriver', 'minor', 'minute', 'minutes', 'miracle', 'miranda', 'mirror', 'misadventures', 'mischievous', 'miserable', 'misfit', 'misfits', 'misguided', 'mismatched', 'miss', 'missile', 'missing', 'missingperson', 'mission', 'missionary', 'missionofmurder', 'mississippi', 'missouri', 'mistaken', 'mistakenidentity', 'mistakenly', 'mistakes', 'mistress', 'mitch', 'mitchell', 'mix', 'mixed', 'mob', 'mobster', 'mobsters', 'mockumentary', 'model', 'modern', 'mole', 'molly', 'mom', 'moment', 'moments', 'money', 'monica', 'monk', 'monkey', 'monroe', 'monster', 'monsters', 'monstrous', 'montana', 'monte', 'month', 'months', 'montreal', 'moon', 'moonlights', 'moore', 'moral', 'morality', 'morganfreeman', 'morgue', 'mormon', 'morning', 'morris', 'morrischestnut', 'mortal', 'moscow', 'moses', 'mossad', 'motel', 'mother', 'motherdaughterrelationship', 'motherrole', 'mothersonrelationship', 'motion', 'motives', 'motley', 'motor', 'motorcycle', 'mountain', 'mountains', 'mouse', 'moved', 'movement', 'moves', 'movie', 'movies', 'moviestar', 'moving', 'mr', 'mrs', 'multi', 'multiple', 'multiplestorylines', 'mumblecore', 'mumblegore', 'murder', 'murdered', 'murderer', 'murderhunt', 'murdering', 'murderous', 'murders', 'murphy', 'museum', 'music', 'musical', 'musicband', 'musician', 'musicians', 'muslim', 'mutant', 'mutants', 'mutation', 'mutiny', 'mutual', 'mysterious', 'mysteriously', 'mystery', 'mystical', 'mythical', 'mythology', 'naive', 'nam', 'named', 'names', 'nancy', 'nanny', 'naomiwatts', 'narcotics', 'narration', 'nasa', 'nasty', 'natalie', 'natalieportman', 'nathan', 'nation', 'national', 'nations', 'native', 'nativeamerican', 'natural', 'naturally', 'nature', 'navigate', 'navy', 'nazi', 'nazigermany', 'nazis', 'neal', 'near', 'nearby', 'nearly', 'necessary', 'need', 'needed', 'needs', 'nefarious', 'neighbor', 'neighborhood', 'neighbors', 'neiljordan', 'nelson', 'nemesis', 'neo', 'nephew', 'nerd', 'nerdy', 'netherlands', 'network', 'neurotic', 'nevada', 'nevecampbell', 'new', 'newborn', 'newcomer', 'newfound', 'newidentity', 'newjersey', 'newlove', 'newly', 'newmexico', 'news', 'newspaper', 'newyear', 'newyork', 'newyorkcity', 'nialong', 'nice', 'nick', 'nicknolte', 'nicolascage', 'nicolekidman', 'niece', 'night', 'nightclub', 'nightmare', 'nightmares', 'nightshyamalan', 'nightstand', 'ninja', 'noble', 'noir', 'non', 'normal', 'north', 'northern', 'notorious', 'novel', 'novelist', 'nuclear', 'nuclearmissile', 'nudity', 'number', 'numbers', 'numerous', 'nun', 'nurse', 'nypd', 'object', 'obsessed', 'obsession', 'obsessive', 'obstacles', 'obtain', 'occult', 'occupied', 'occurrences', 'occurs', 'ocean', 'odd', 'oddball', 'odds', 'odyssey', 'offer', 'offered', 'offers', 'office', 'officer', 'officers', 'official', 'ohio', 'oil', 'old', 'older', 'oliver', 'oliverstone', 'oliviawilde', 'olympic', 'olympicgames', 'omar', 'ones', 'online', 'ontherun', 'open', 'opening', 'opens', 'opera', 'operation', 'operative', 'opportunity', 'opposing', 'opposite', 'oppositesattract', 'orcs', 'order', 'ordered', 'orders', 'ordinary', 'oregon', 'organization', 'organized', 'organizedcrime', 'original', 'origins', 'orlandobloom', 'orleans', 'orphan', 'orphanage', 'orphaned', 'oscar', 'oscaraward', 'oscarisaac', 'otherworldly', 'outback', 'outbreak', 'outcast', 'outerspace', 'outlaw', 'outrageous', 'outside', 'overcome', 'overcomes', 'overrun', 'overthrow', 'owenwilson', 'owl', 'owned', 'owner', 'owners', 'oxford', 'oz', 'paced', 'pacific', 'pack', 'package', 'packed', 'pact', 'pageant', 'paid', 'pain', 'painful', 'painter', 'painting', 'pair', 'pal', 'palace', 'pals', 'pam', 'pan', 'pandora', 'panic', 'panther', 'paradise', 'parallel', 'parallelworld', 'paranoia', 'paranoid', 'paranormal', 'parent', 'parents', 'parentskidsrelationship', 'paris', 'park', 'parker', 'parody', 'parole', 'particularly', 'parties', 'partner', 'partners', 'partnership', 'parts', 'party', 'partying', 'pass', 'passed', 'passenger', 'passengers', 'passes', 'passing', 'passion', 'passionate', 'past', 'pastor', 'path', 'paths', 'patient', 'patients', 'patriarch', 'patrick', 'patrickstewart', 'patrickwilson', 'paul', 'paulapatton', 'paulbettany', 'paulgiamatti', 'paulnewman', 'paulrudd', 'paulw', 'paulwalker', 'pay', 'pays', 'peace', 'peaceful', 'peasant', 'penguin', 'penguins', 'pennsylvania', 'penélopecruz', 'people', 'perfect', 'perform', 'performance', 'performances', 'performer', 'performing', 'perilous', 'period', 'perioddrama', 'perry', 'person', 'personal', 'personality', 'pet', 'pete', 'peter', 'peterjackson', 'petersarsgaard', 'petty', 'phil', 'philadelphia', 'philippe', 'philipseymourhoffman', 'phillipnoyce', 'philosophy', 'phone', 'photo', 'photographer', 'photography', 'physical', 'pianist', 'piano', 'picard', 'pick', 'picks', 'picture', 'pictures', 'piece', 'pieces', 'piercebrosnan', 'pierre', 'pig', 'pilot', 'pilots', 'pimp', 'piperperabo', 'pirate', 'pistol', 'pits', 'place', 'placed', 'places', 'plague', 'plagued', 'plan', 'plane', 'planet', 'planned', 'plannedmurder', 'planning', 'plans', 'plant', 'plantation', 'play', 'playboy', 'played', 'player', 'players', 'playing', 'plays', 'playwright', 'pleasure', 'plenty', 'plot', 'plots', 'plunged', 'plus', 'po', 'poet', 'poetry', 'point', 'poison', 'poker', 'police', 'policebrutality', 'policechase', 'policeman', 'policeofficer', 'policeoperation', 'political', 'politician', 'politics', 'pool', 'poor', 'pop', 'popstar', 'popular', 'popularity', 'population', 'porn', 'pornography', 'port', 'portal', 'porter', 'portrait', 'posing', 'position', 'possess', 'possessed', 'possesses', 'possession', 'possibility', 'possible', 'possibly', 'post', 'posttraumaticstressdisorder', 'pot', 'potential', 'potter', 'poverty', 'power', 'powered', 'powerful', 'poweroutage', 'powers', 'prank', 'prayer', 'pre', 'preacher', 'precious', 'predator', 'pregnancy', 'pregnancyandbirth', 'pregnant', 'prehistoric', 'prejudice', 'prejudices', 'premonition', 'prepare', 'prepared', 'prepares', 'preparing', 'prequel', 'presence', 'present', 'presents', 'president', 'presidential', 'presidentialelection', 'press', 'pressure', 'prestigious', 'presumed', 'pretty', 'prevent', 'previous', 'prey', 'price', 'priceless', 'pride', 'priest', 'prime', 'prince', 'princess', 'principal', 'prison', 'prisoner', 'prisoners', 'prisonersofwar', 'private', 'privatedetective', 'privileged', 'prize', 'pro', 'problem', 'problems', 'process', 'prodigy', 'produced', 'producer', 'product', 'production', 'professional', 'professor', 'profit', 'program', 'project', 'prom', 'prominent', 'promise', 'promised', 'promises', 'promising', 'promoter', 'prompting', 'property', 'prophecy', 'prosecution', 'prostitute', 'prostitution', 'protect', 'protecting', 'protection', 'protest', 'prove', 'proves', 'provide', 'psychiatric', 'psychiatrist', 'psychic', 'psychological', 'psychologist', 'psychology', 'psychopath', 'psychotic', 'puberty', 'public', 'pull', 'pulled', 'pulls', 'punishment', 'punk', 'puppet', 'puppy', 'pure', 'purpose', 'pursue', 'pursued', 'pursues', 'pursuing', 'pursuit', 'push', 'pushed', 'pushes', 'puts', 'putting', 'quarantine', 'queen', 'queenlatifah', 'queens', 'quentintarantino', 'quest', 'question', 'questions', 'quick', 'quickly', 'quiet', 'quirky', 'quite', 'rabbit', 'race', 'raceagainsttime', 'racer', 'races', 'rachaelleighcook', 'rachel', 'rachelmcadams', 'rachelweisz', 'racial', 'racing', 'racism', 'radio', 'rag', 'rage', 'rageandhate', 'raid', 'railroad', 'rain', 'raise', 'raised', 'raising', 'ralph', 'ralphfiennes', 'rampage', 'ranch', 'ranger', 'rangers', 'ranking', 'ransom', 'rape', 'rapidly', 'rapmusic', 'rapper', 'rare', 'rat', 'ravaged', 'raw', 'ray', 'rayliotta', 'raymond', 'raywinstone', 'reach', 'reaches', 'reading', 'ready', 'real', 'reality', 'realize', 'realizes', 'realizing', 'really', 'realm', 'reason', 'rebecca', 'rebeccahall', 'rebel', 'rebellion', 'rebellious', 'rebels', 'reboot', 'receive', 'receives', 'receiving', 'recent', 'recently', 'reclaim', 'reclusive', 'reconcile', 'reconnect', 'record', 'recording', 'records', 'recover', 'recovering', 'recruit', 'recruited', 'recruits', 'red', 'redemption', 'redneck', 'reeling', 'reesewitherspoon', 'refuge', 'refuses', 'regain', 'regime', 'regular', 'reign', 'reilly', 'relationship', 'relationshipproblems', 'relationships', 'relatives', 'release', 'released', 'relentless', 'religion', 'religionandsupernatural', 'religious', 'relocated', 'reluctant', 'reluctantly', 'rely', 'remain', 'remaining', 'remains', 'remake', 'remember', 'remote', 'renegade', 'renerusso', 'rennyharlin', 'renowned', 'rent', 'renéezellweger', 'repair', 'repayment', 'replace', 'report', 'reporter', 'repressed', 'republic', 'reputation', 'rescue', 'rescued', 'rescues', 'rescuing', 'research', 'researcher', 'resident', 'residents', 'resistance', 'resolve', 'resort', 'resources', 'respect', 'respected', 'respective', 'response', 'responsibility', 'responsible', 'rest', 'restaurant', 'restore', 'result', 'resulting', 'results', 'resurrected', 'resurrection', 'retelling', 'retired', 'retirement', 'retreat', 'retribution', 'retrieve', 'return', 'returned', 'returning', 'returns', 'reunion', 'reunite', 'reunited', 'reunites', 'reveal', 'revealed', 'revealing', 'reveals', 'revelation', 'revenge', 'reverend', 'revolution', 'revolutionary', 'revolves', 'reward', 'rich', 'richard', 'richarddonner', 'richarddreyfuss', 'richardgere', 'richardlinklater', 'rick', 'rid', 'riddle', 'ride', 'riding', 'ridleyscott', 'rifle', 'right', 'rightandjustice', 'rights', 'riley', 'ring', 'riot', 'ripley', 'rise', 'rises', 'rising', 'risk', 'risks', 'rival', 'rivalry', 'rivals', 'river', 'road', 'roadmovie', 'roadtrip', 'rob', 'robber', 'robbers', 'robbery', 'robcohen', 'robert', 'robertdeniro', 'robertdowneyjr', 'robertduvall', 'robertenglund', 'robertredford', 'robertrodriguez', 'robertzemeckis', 'robin', 'robinson', 'robinwilliams', 'robinwright', 'robot', 'robots', 'robreiner', 'rock', 'rockandroll', 'rocket', 'rockstar', 'rocky', 'roger', 'rogue', 'rolandemmerich', 'role', 'roll', 'roman', 'romance', 'romantic', 'romanticcomedy', 'rome', 'romeo', 'romero', 'ron', 'ronhoward', 'ronnie', 'roof', 'rookie', 'room', 'roommate', 'roots', 'rosariodawson', 'rose', 'rosebyrne', 'ross', 'rough', 'round', 'routine', 'row', 'roy', 'royal', 'royalty', 'ruby', 'rugrats', 'rule', 'ruled', 'rules', 'run', 'runaway', 'runner', 'running', 'runs', 'rupertgrint', 'rural', 'ruralsetting', 'rush', 'russell', 'russellcrowe', 'russia', 'russian', 'ruth', 'ruthless', 'ryan', 'ryangosling', 'ryanphillippe', 'ryanreynolds', 'sabotage', 'sacrifice', 'sadism', 'sadistic', 'sadness', 'safe', 'safety', 'saga', 'said', 'sailing', 'sailor', 'sale', 'salesman', 'sally', 'salmahayek', 'sam', 'samantha', 'samanthamorton', 'samneill', 'samraimi', 'samrockwell', 'samuel', 'samuell', 'samurai', 'san', 'sandrabullock', 'sandy', 'sanfrancisco', 'sanity', 'santa', 'santaclaus', 'sara', 'sarah', 'sarahjessicaparker', 'sarahmichellegellar', 'satan', 'satellite', 'satire', 'savage', 'save', 'saved', 'saves', 'saving', 'savingtheworld', 'say', 'sbook', 'scam', 'scandal', 'scared', 'scarlettjohansson', 'scary', 'scene', 'scenes', 'scheme', 'scheming', 'schizophrenia', 'scholarship', 'school', 'schoolteacher', 'sci', 'science', 'sciencefiction', 'scientific', 'scientist', 'scientists', 'score', 'scotland', 'scott', 'scottglenn', 'scottish', 'scout', 'screaming', 'screen', 'screenplay', 'screenwriter', 'scubadiving', 'sdailylife', 'sea', 'seal', 'sean', 'seanbean', 'seanconnery', 'seannwilliamscott', 'seanpenn', 'search', 'searches', 'searching', 'seas', 'seaside', 'season', 'seasoned', 'seattle', 'sebastian', 'second', 'secret', 'secretagent', 'secretary', 'secretidentity', 'secretintelligenceservice', 'secretlove', 'secretly', 'secretmission', 'secretorganization', 'secrets', 'secretservice', 'secretsociety', 'section', 'secure', 'security', 'securityguard', 'seduction', 'seductive', 'seeing', 'seek', 'seeking', 'seeks', 'seemingly', 'seen', 'sees', 'self', 'selfsacrifice', 'sell', 'selling', 'selmablair', 'semi', 'senator', 'send', 'sending', 'sends', 'senior', 'seniors', 'sense', 'sent', 'sentence', 'sentenced', 'seo', 'separate', 'separated', 'sequel', 'sergeant', 'serial', 'serialkiller', 'series', 'seriesofmurders', 'seriously', 'servant', 'serve', 'serves', 'service', 'serving', 'set', 'seth', 'sethgreen', 'sethrogen', 'sets', 'setting', 'settle', 'seve', 'seven', 'severe', 'sex', 'sexual', 'sexualabuse', 'sexuality', 'sexually', 'sexualobsession', 'sexy', 'shadow', 'shadowy', 'shady', 'shake', 'shaken', 'shakespeare', 'shane', 'shanghai', 'shannynsossamon', 'shape', 'share', 'shared', 'shares', 'sharing', 'shark', 'sharkattack', 'sharks', 'sharonstone', 'sharp', 'shattered', 'shaw', 'shawnlevy', 'shelter', 'sheriff', 'shialabeouf', 'ship', 'shipwreck', 'shocked', 'shocking', 'shoes', 'shooting', 'shootout', 'shop', 'short', 'shot', 'shotgun', 'showdown', 'shower', 'showing', 'shows', 'shredder', 'shrek', 'shut', 'shy', 'shyness', 'siblings', 'sick', 'sid', 'sidekick', 'sides', 'sidney', 'sight', 'sights', 'sign', 'signs', 'sigourneyweaver', 'silent', 'silver', 'similar', 'simon', 'simonpegg', 'simonwest', 'simple', 'simply', 'sin', 'sing', 'singer', 'singers', 'singing', 'single', 'singlefather', 'singlemother', 'singleparent', 'sinister', 'sir', 'sister', 'sisters', 'sistersisterrelationship', 'site', 'sittingonatoilet', 'situation', 'situations', 'size', 'sized', 'skateboarding', 'skeleton', 'skeptical', 'skill', 'skilled', 'skills', 'skull', 'sky', 'skyscraper', 'slacker', 'slasher', 'slaughter', 'slave', 'slavery', 'slaves', 'sleazy', 'sleep', 'sleeping', 'sleepy', 'slife', 'slowly', 'slum', 'small', 'smalltown', 'smart', 'smith', 'smitten', 'smoking', 'smuggling', 'snake', 'sniper', 'snow', 'snowstorm', 'soccer', 'social', 'socially', 'society', 'sociopath', 'sofia', 'solar', 'sold', 'soldier', 'soldiers', 'sole', 'solitary', 'solomon', 'solve', 'somebody', 'somewhat', 'son', 'song', 'songs', 'songwriter', 'sons', 'soon', 'sophie', 'sorcerer', 'sorcery', 'sorority', 'sort', 'soul', 'souls', 'soundtrack', 'source', 'south', 'southafrica', 'southern', 'southernusa', 'soviet', 'space', 'spacecraft', 'spacemarine', 'spacemission', 'spaceopera', 'spaceship', 'spacetravel', 'spain', 'spanish', 'spanning', 'sparks', 'speak', 'speaking', 'special', 'specialist', 'species', 'spectacular', 'speech', 'speed', 'spell', 'spend', 'spending', 'spends', 'spent', 'spider', 'spikelee', 'spiral', 'spirit', 'spirited', 'spirits', 'spoof', 'sport', 'sports', 'sportsteam', 'spot', 'spotlight', 'spread', 'spring', 'spy', 'squad', 'st', 'stadium', 'staff', 'stage', 'stages', 'stake', 'stakes', 'stalked', 'stalker', 'stalking', 'stan', 'stand', 'standing', 'stands', 'star', 'stardom', 'stark', 'starring', 'stars', 'start', 'started', 'starting', 'starts', 'state', 'states', 'station', 'status', 'stay', 'steal', 'stealing', 'steampunk', 'steel', 'step', 'stepfather', 'stephen', 'stephendorff', 'stephenfrears', 'stephenherek', 'stephenrea', 'stepmother', 'steps', 'steve', 'stevebuscemi', 'stevecarell', 'stevemartin', 'steven', 'stevens', 'stevenseagal', 'stevensoderbergh', 'stevenspielberg', 'stevezahn', 'stewart', 'stock', 'stockbroker', 'stolen', 'stone', 'stoneage', 'stoner', 'stop', 'stopmotion', 'stopped', 'stopping', 'store', 'stories', 'storm', 'story', 'straight', 'stranded', 'strange', 'stranger', 'strangers', 'strategy', 'street', 'streetgang', 'streets', 'strength', 'stress', 'stretch', 'strict', 'strike', 'strikes', 'strip', 'stripclub', 'stripes', 'stripper', 'strong', 'struggle', 'struggles', 'struggling', 'stu', 'stuart', 'stuck', 'student', 'students', 'studies', 'studio', 'study', 'stumble', 'stumbles', 'stunning', 'stunt', 'stunts', 'stupidity', 'style', 'sub', 'subjected', 'submachinegun', 'submarine', 'suburban', 'suburbia', 'subway', 'succeed', 'succeeds', 'success', 'successful', 'successfully', 'successor', 'sudden', 'suddenly', 'sue', 'suffer', 'suffering', 'suffers', 'suggests', 'suicidal', 'suicide', 'suicideattempt', 'suit', 'suitcase', 'suitor', 'sullivan', 'summer', 'sun', 'sunglasses', 'super', 'superhero', 'superheroes', 'superhuman', 'superhumanstrength', 'superman', 'supermarket', 'supernatural', 'supernaturalpowers', 'superpowers', 'superstar', 'supervillain', 'supply', 'support', 'supposed', 'suppressedpast', 'sure', 'surface', 'surfer', 'surgeon', 'surgery', 'surprise', 'surprising', 'surreal', 'surrealism', 'surrounding', 'surveillance', 'survival', 'survive', 'survived', 'survives', 'surviving', 'survivor', 'survivors', 'susan', 'susansarandon', 'suspect', 'suspected', 'suspecting', 'suspects', 'suspense', 'suspicion', 'suspicious', 'sweet', 'sweetheart', 'swimmingpool', 'sword', 'swordandsorcery', 'swordfight', 'swordplay', 'sylvesterstallone', 'table', 'tag', 'tail', 'taken', 'takes', 'taking', 'tale', 'talent', 'talented', 'tales', 'talk', 'talking', 'talkinganimal', 'talks', 'tall', 'tank', 'tape', 'target', 'targeted', 'targets', 'task', 'tasked', 'taste', 'tattoo', 'taxi', 'taxidriver', 'taylor', 'teach', 'teacher', 'teachers', 'teaches', 'teaching', 'team', 'teams', 'tear', 'tears', 'tech', 'technology', 'ted', 'teen', 'teenage', 'teenagecrush', 'teenagegirl', 'teenager', 'teenagers', 'teenagesexuality', 'teencomedy', 'teenmovie', 'teens', 'telekinesis', 'telepathy', 'television', 'tell', 'telling', 'tells', 'temple', 'tennessee', 'tense', 'tension', 'term', 'terminal', 'terminalillness', 'terms', 'terrencehoward', 'terrible', 'terrier', 'terrified', 'terrifying', 'territory', 'terror', 'terrorism', 'terrorist', 'terrorists', 'terrorize', 'terry', 'terrygilliam', 'tess', 'test', 'tested', 'tests', 'texas', 'thailand', 'thandienewton', 'thanks', 'thanksgiving', 'theater', 'theatremilieu', 'theft', 'therapist', 'therapy', 'thief', 'thieves', 'thing', 'things', 'think', 'thinking', 'thinks', 'thirty', 'thomas', 'thomashadenchurch', 'thomasjane', 'thompson', 'thought', 'thoughts', 'thousand', 'thousands', 'threat', 'threaten', 'threatened', 'threatening', 'threatens', 'threats', 'thrill', 'thriller', 'thrilling', 'throne', 'throw', 'thrown', 'thrust', 'thugs', 'thwart', 'ticket', 'ties', 'tiger', 'tim', 'timallen', 'timburton', 'time', 'timeless', 'times', 'timetravel', 'timothyolyphant', 'timrobbins', 'timroth', 'tiny', 'title', 'tobeymaguire', 'today', 'todd', 'tokyo', 'told', 'tom', 'tomcruise', 'tomhanks', 'tomhardy', 'tommy', 'tommyleejones', 'tomwilkinson', 'tonicollette', 'tony', 'tonyscott', 'took', 'tormented', 'torn', 'tornado', 'toronto', 'torture', 'tortured', 'total', 'totally', 'touch', 'touches', 'touching', 'tough', 'toughest', 'tour', 'tourist', 'tournament', 'tower', 'town', 'townspeople', 'toxic', 'toy', 'toycomestolife', 'toys', 'track', 'tracking', 'tracks', 'tracy', 'trade', 'tradition', 'traditional', 'traffic', 'trafficking', 'tragedy', 'tragic', 'trail', 'train', 'trained', 'trainer', 'training', 'trains', 'traitor', 'transfer', 'transform', 'transformation', 'transformed', 'transformers', 'transforming', 'transforms', 'transported', 'transporter', 'trap', 'trapped', 'traps', 'trauma', 'traumatic', 'travel', 'traveling', 'travels', 'treacherous', 'treasure', 'treasurehunt', 'treatment', 'tree', 'trek', 'trial', 'trials', 'triangle', 'tribe', 'tried', 'tries', 'trio', 'trip', 'troops', 'tropical', 'trouble', 'troubled', 'troy', 'truck', 'trucker', 'true', 'truly', 'trust', 'truth', 'try', 'trying', 'tunnel', 'turmoil', 'turn', 'turned', 'turner', 'turning', 'turns', 'turtle', 'turtles', 'tv', 'tvmovie', 'tvshow', 'tvstation', 'twin', 'twinbrother', 'twins', 'twist', 'twisted', 'tycoon', 'tyler', 'tylerperry', 'type', 'typical', 'tyrannical', 'téaleoni', 'ufo', 'ugly', 'ultimate', 'ultimately', 'ultra', 'umathurman', 'unable', 'unaware', 'uncle', 'unconventional', 'uncover', 'uncovers', 'undead', 'undercover', 'undercoveragent', 'undercovercop', 'underdog', 'underground', 'understand', 'underwater', 'underworld', 'unemployed', 'unemployment', 'unexpected', 'unexpectedly', 'unfold', 'unfolds', 'unforeseen', 'unforgettable', 'unfortunate', 'unfortunately', 'unimaginable', 'union', 'unique', 'unit', 'unite', 'united', 'universe', 'university', 'unknown', 'unleash', 'unleashed', 'unleashing', 'unless', 'unlike', 'unlikely', 'unlikelyfriendship', 'unlock', 'unorthodox', 'unprecedented', 'unpredictable', 'unravel', 'unrequitedlove', 'unsimulatedsex', 'unsociability', 'unstable', 'unstoppable', 'unsuspecting', 'unthinkable', 'unusual', 'unwitting', 'unwittingly', 'upcoming', 'upper', 'upperclass', 'uprising', 'ups', 'upset', 'upside', 'uptight', 'urban', 'usa', 'usapresident', 'use', 'used', 'uses', 'using', 'utah', 'vacation', 'val', 'valentine', 'valkilmer', 'valley', 'valuable', 'value', 'values', 'vampire', 'vampires', 'van', 'vandalism', 'vanessa', 'vanessahudgens', 'variety', 'various', 'vast', 'vatican', 'vault', 've', 'vegas', 'vegetarian', 'vengeance', 'vengeful', 'venice', 'verafarmiga', 'verge', 'version', 'verylittledialogue', 'veteran', 'vice', 'vicious', 'victim', 'victims', 'victor', 'victoria', 'victory', 'video', 'videogame', 'vienna', 'vietnam', 'vietnamveteran', 'vietnamwar', 'view', 'viggomortensen', 'vigilante', 'village', 'villain', 'villainous', 'villains', 'vincent', 'vincevaughn', 'vindiesel', 'vineyard', 'violence', 'violent', 'virgin', 'virginia', 'virginiamadsen', 'virginity', 'virtualreality', 'virus', 'vision', 'visions', 'visit', 'visited', 'visits', 'voice', 'volatile', 'volcano', 'volunteers', 'von', 'voodoo', 'vow', 'vows', 'voyage', 'wade', 'wait', 'waiting', 'waitress', 'wake', 'wakes', 'walk', 'walker', 'walking', 'walks', 'wall', 'wallet', 'walls', 'walt', 'walter', 'wang', 'want', 'wanted', 'wanting', 'wants', 'war', 'warcrimes', 'ward', 'warehouse', 'warfare', 'warlock', 'warondrugs', 'warren', 'warrenbeatty', 'warrior', 'warriors', 'wars', 'washed', 'washington', 'washingtond', 'watch', 'watches', 'watching', 'water', 'waters', 'wave', 'way', 'ways', 'wealth', 'wealthy', 'weapon', 'weapons', 'wearing', 'weather', 'web', 'website', 'wedding', 'week', 'weekend', 'weeks', 'welcome', 'went', 'werewolf', 'wesbentley', 'wescraven', 'wesley', 'wesleysnipes', 'west', 'western', 'whale', 'wheelchair', 'whip', 'whisked', 'white', 'whitehouse', 'whoopigoldberg', 'wicked', 'wide', 'widow', 'widowed', 'widower', 'wielding', 'wife', 'wifehusbandrelationship', 'wild', 'wilderness', 'wildly', 'willemdafoe', 'willferrell', 'william', 'williamh', 'williamhurt', 'williams', 'williamshatner', 'willing', 'willpatton', 'willsmith', 'wilson', 'win', 'wind', 'window', 'winds', 'wine', 'wing', 'winner', 'winning', 'winonaryder', 'wins', 'winter', 'wise', 'wish', 'wishes', 'witch', 'witches', 'witness', 'witnesses', 'wits', 'wizard', 'wolf', 'woman', 'womandirector', 'womanizer', 'womanrelation', 'women', 'won', 'wonder', 'wonders', 'woods', 'woody', 'woodyallen', 'woodyharrelson', 'word', 'words', 'work', 'workaholic', 'worked', 'worker', 'workers', 'working', 'works', 'world', 'worlds', 'worldwari', 'worldwarii', 'worldwide', 'worse', 'worst', 'worth', 'wound', 'wounded', 'wreak', 'wrestling', 'wretch', 'wright', 'write', 'writer', 'writes', 'writing', 'written', 'wrong', 'wwii', 'wyoming', 'xenophobia', 'yacht', 'yakuza', 'yard', 'year', 'years', 'yellow', 'york', 'young', 'youngadult', 'younger', 'youngest', 'youth', 'yuppie', 'zacefron', 'zachgalifianakis', 'zacksnyder', 'zebra', 'zeus', 'zhangziyi', 'zoe', 'zoesaldana', 'zombie', 'zombies', 'zone', 'zoo', 'zooeydeschanel']\n"
     ]
    }
   ],
   "source": [
    "print(list(feat))"
   ]
  },
  {
   "cell_type": "code",
   "execution_count": 49,
   "id": "39bd66c2-af52-47a1-aebe-a975b4fdc052",
   "metadata": {},
   "outputs": [],
   "source": [
    "from sklearn.metrics.pairwise import cosine_similarity"
   ]
  },
  {
   "cell_type": "code",
   "execution_count": 50,
   "id": "952db3ab-959f-4727-b003-1210cafdd0cb",
   "metadata": {},
   "outputs": [],
   "source": [
    "similarity = cosine_similarity(vectors)"
   ]
  },
  {
   "cell_type": "code",
   "execution_count": 51,
   "id": "a03749e4-39db-4f3e-8d1f-9a363416f578",
   "metadata": {},
   "outputs": [
    {
     "data": {
      "text/plain": [
       "[(539, np.float64(0.25038669783359574)),\n",
       " (1192, np.float64(0.24779731389167606)),\n",
       " (507, np.float64(0.24283093212859141)),\n",
       " (260, np.float64(0.2409900932515112)),\n",
       " (1214, np.float64(0.23939494881986934))]"
      ]
     },
     "execution_count": 51,
     "metadata": {},
     "output_type": "execute_result"
    }
   ],
   "source": [
    "sorted(list(enumerate(similarity[0])),reverse = True,key=lambda x:x[1])[1:6]"
   ]
  },
  {
   "cell_type": "code",
   "execution_count": 52,
   "id": "c8433e58-3f82-44b9-b62f-0302aeddae19",
   "metadata": {},
   "outputs": [
    {
     "data": {
      "text/plain": [
       "array([1.        , 0.08740748, 0.05827165, ..., 0.02418254, 0.02564946,\n",
       "       0.        ])"
      ]
     },
     "execution_count": 52,
     "metadata": {},
     "output_type": "execute_result"
    }
   ],
   "source": [
    "# similarity of first movie with other movies\n",
    "# 0 is index number that assign to 1st movies\n",
    "similarity[0]"
   ]
  },
  {
   "cell_type": "markdown",
   "id": "c727acb7-d51b-4090-81f9-5a04fa39d0cd",
   "metadata": {},
   "source": [
    "# Main Function \n"
   ]
  },
  {
   "cell_type": "code",
   "execution_count": 53,
   "id": "40c085fe-2074-41fb-aa33-c60a17388939",
   "metadata": {},
   "outputs": [],
   "source": [
    "def recommend(movie):\n",
    "    movie_index = new_df[new_df['title']==movie].index[0]\n",
    "    distances = similarity[movie_index]\n",
    "    movies_list=sorted(list(enumerate(distances)),reverse = True,key = lambda x:x[1])[1:6]\n",
    "    for i in movies_list:\n",
    "        print(new_df.iloc[i[0]].title)\n",
    "    "
   ]
  },
  {
   "cell_type": "code",
   "execution_count": 54,
   "id": "82bc348f-0a2b-4c5f-b384-937d386084f1",
   "metadata": {},
   "outputs": [
    {
     "name": "stdout",
     "output_type": "stream",
     "text": [
      "The Dark Knight\n",
      "The Dark Knight Rises\n",
      "Batman\n",
      "Batman\n",
      "Batman & Robin\n"
     ]
    }
   ],
   "source": [
    "# That is the recomended movie \n",
    "recommend('Batman Begins')"
   ]
  },
  {
   "cell_type": "code",
   "execution_count": 55,
   "id": "7a1d9707-5d17-4baf-87fa-bd36b932d188",
   "metadata": {},
   "outputs": [],
   "source": [
    "import pickle"
   ]
  },
  {
   "cell_type": "code",
   "execution_count": 56,
   "id": "b5497b0a-9d8d-44e4-b90e-bb6b0320a147",
   "metadata": {},
   "outputs": [],
   "source": [
    "pickle.dump(new_df,open('movies.pkl','wb'))"
   ]
  },
  {
   "cell_type": "code",
   "execution_count": 57,
   "id": "1a71684c-315e-486a-bb95-30735f6ecaec",
   "metadata": {},
   "outputs": [
    {
     "data": {
      "text/plain": [
       "array(['Avatar', \"Pirates of the Caribbean: At World's End\", 'Spectre',\n",
       "       ..., 'Signed, Sealed, Delivered', 'Shanghai Calling',\n",
       "       'My Date with Drew'], dtype=object)"
      ]
     },
     "execution_count": 57,
     "metadata": {},
     "output_type": "execute_result"
    }
   ],
   "source": [
    "new_df['title'].values"
   ]
  },
  {
   "cell_type": "code",
   "execution_count": 60,
   "id": "a5c9aa72-8fa1-4298-b099-63023cea98af",
   "metadata": {},
   "outputs": [],
   "source": [
    "pickle.dump(new_df.to_dict(),open('movies_dict.pkl','wb'))"
   ]
  },
  {
   "cell_type": "code",
   "execution_count": 57,
   "id": "0e3cb19a-7f38-40ca-b2f1-5c7e46531106",
   "metadata": {},
   "outputs": [],
   "source": [
    "pickle.dump(similarity,open('similarity.pkl','wb'))"
   ]
  },
  {
   "cell_type": "code",
   "execution_count": null,
   "id": "e107fa3a-673e-4ebe-99ea-176aa7d54d93",
   "metadata": {},
   "outputs": [],
   "source": []
  },
  {
   "cell_type": "markdown",
   "id": "52e63962-ae34-4929-b9ce-47b00c0e3ac5",
   "metadata": {},
   "source": [
    "# Our Recommendation is Complete \n",
    "Now we make a Live app demo Using Streamlit."
   ]
  },
  {
   "cell_type": "markdown",
   "id": "e8070462-1819-4ae6-9426-8315fabd7f5e",
   "metadata": {},
   "source": [
    "# Author: Ayush Kumar Maurya"
   ]
  },
  {
   "cell_type": "markdown",
   "id": "8d8aa7cf-6798-49c4-b7e6-5bfd902c00c1",
   "metadata": {},
   "source": [
    "# End"
   ]
  },
  {
   "cell_type": "code",
   "execution_count": null,
   "id": "df8179af-a214-44b7-a892-869929ffae93",
   "metadata": {},
   "outputs": [],
   "source": []
  }
 ],
 "metadata": {
  "kernelspec": {
   "display_name": "Python 3 (ipykernel)",
   "language": "python",
   "name": "python3"
  },
  "language_info": {
   "codemirror_mode": {
    "name": "ipython",
    "version": 3
   },
   "file_extension": ".py",
   "mimetype": "text/x-python",
   "name": "python",
   "nbconvert_exporter": "python",
   "pygments_lexer": "ipython3",
   "version": "3.12.6"
  }
 },
 "nbformat": 4,
 "nbformat_minor": 5
}
